{
  "nbformat": 4,
  "nbformat_minor": 0,
  "metadata": {
    "colab": {
      "name": "Visualization of Linear Regression on Tensorboard.ipynb",
      "version": "0.3.2",
      "provenance": [],
      "collapsed_sections": [],
      "include_colab_link": true
    },
    "kernelspec": {
      "name": "python3",
      "display_name": "Python 3"
    }
  },
  "cells": [
    {
      "cell_type": "markdown",
      "metadata": {
        "id": "view-in-github",
        "colab_type": "text"
      },
      "source": [
        "<a href=\"https://colab.research.google.com/github/sachinprabhu007/ML-Expriments/blob/master/Visualization_of_Linear_Regression_on_Tensorboard.ipynb\" target=\"_parent\"><img src=\"https://colab.research.google.com/assets/colab-badge.svg\" alt=\"Open In Colab\"/></a>"
      ]
    },
    {
      "metadata": {
        "id": "J1NZkCDcN-2k",
        "colab_type": "code",
        "colab": {}
      },
      "cell_type": "code",
      "source": [
        "#importing the dependencies\n",
        "\n",
        "import numpy as np\n",
        "import tensorflow as tf\n",
        "import matplotlib.pyplot as plt"
      ],
      "execution_count": 0,
      "outputs": []
    },
    {
      "metadata": {
        "id": "W1u4G8s5OSly",
        "colab_type": "code",
        "colab": {}
      },
      "cell_type": "code",
      "source": [
        "# define the parameter \n",
        "\n",
        "learning_parameter = 0.01\n",
        "epochs  = 300"
      ],
      "execution_count": 0,
      "outputs": []
    },
    {
      "metadata": {
        "id": "nkc9Ld9pObKP",
        "colab_type": "code",
        "colab": {}
      },
      "cell_type": "code",
      "source": [
        "# creating the dataset of linear regression\n",
        "# here the line is y = Ax\n",
        "\n",
        "sample_points = 50\n",
        "x_train = np.linspace(0,30,sample_points)\n",
        "y_train = 6*x_train + 7*np.random.randn(sample_points)"
      ],
      "execution_count": 0,
      "outputs": []
    },
    {
      "metadata": {
        "id": "eYtuX16jPDNj",
        "colab_type": "code",
        "outputId": "9d82b474-1683-44d7-c5d9-3494d17a6f66",
        "colab": {
          "base_uri": "https://localhost:8080/",
          "height": 347
        }
      },
      "cell_type": "code",
      "source": [
        "#noisy dataset\n",
        "\n",
        "plt.plot(x_train, y_train,'o')\n",
        "\n",
        "\n",
        "#noise free dataset\n",
        "plt.plot(x_train, 6*x_train)\n",
        "plt.show()"
      ],
      "execution_count": 4,
      "outputs": [
        {
          "output_type": "display_data",
          "data": {
            "image/png": "[encoded data removed]",
            "text/plain": [
              "<matplotlib.figure.Figure at 0x7f66d16707f0>"
            ]
          },
          "metadata": {
            "tags": []
          }
        }
      ]
    },
    {
      "metadata": {
        "id": "pBUtU340POT5",
        "colab_type": "code",
        "colab": {}
      },
      "cell_type": "code",
      "source": [
        "# Define the tensorflow definitions\n",
        "\n",
        "Y = tf.placeholder(tf.float32)\n",
        "X = tf.placeholder(tf.float32)\n",
        "\n",
        "W = tf.Variable(np.random.randn(), name = 'weights')\n",
        "B = tf.Variable(np.random.randn(), name = 'bias')\n",
        "\n",
        "# Create the model for regression\n",
        "\n",
        "with tf.name_scope(\"Model\") as scope:\n",
        "  prediction = W*X + B\n",
        "  \n",
        "#Add summary to study behavior of weights and biases with epochs\n",
        "\n",
        "weight_histogram = tf.summary.histogram('Weights',W)\n",
        "bias_histogram = tf.summary.histogram('Bias', B)\n",
        "\n",
        "#cost function\n",
        "\n",
        "with tf.name_scope('Cost_function') as scope:\n",
        "  cost_iteration = tf.reduce_sum((prediction - Y) ** 2) / (2 * sample_points)\n",
        "  \n",
        "# Record the scalar summary of the cost function\n",
        "cost_summary = tf.summary.scalar('Cost',cost_iteration)\n",
        "\n",
        "\n",
        "# Define the optimizer\n",
        "with tf.name_scope('Training') as scope:\n",
        "  optimizer = tf.train.GradientDescentOptimizer(learning_parameter).minimize(cost_iteration)\n",
        "  \n",
        "#Initialize the variables\n",
        "\n",
        "init = tf.global_variables_initializer()\n",
        "\n",
        "#Merge all the summaries into a single operator\n",
        "\n",
        "merged_summary = tf.summary.merge_all()\n",
        "\n",
        "# merge all summaries - summed together and  tagged into one variable \n",
        "#       - weight,bias and cost summary"
      ],
      "execution_count": 0,
      "outputs": []
    },
    {
      "metadata": {
        "id": "gSWX4TJKRegb",
        "colab_type": "code",
        "outputId": "0e5cd766-896c-4437-8c15-8c98518ce0c7",
        "colab": {
          "base_uri": "https://localhost:8080/",
          "height": 483
        }
      },
      "cell_type": "code",
      "source": [
        "# Define the tensorflow session\n",
        "\n",
        "with tf.Session() as sess:\n",
        "  sess.run(init)\n",
        "  writer = tf.summary.FileWriter('./log_summary',sess.graph)\n",
        "  \n",
        "  for epoch in range(epochs):\n",
        "    for x,y in zip(x_train,y_train):\n",
        "      sess.run(optimizer, feed_dict = {X:x, Y:y})\n",
        "      \n",
        "      #write the logs for each epochs\n",
        "      \n",
        "      summary_epochs = sess.run(merged_summary, feed_dict = {X:x, Y:y})\n",
        "      writer.add_summary(summary_epochs, epoch)\n",
        "      \n",
        "    if not epoch % 40:\n",
        "      W1 = sess.run(W)\n",
        "      B1 = sess.run(B)\n",
        "      cost_iter = sess.run(cost_iteration, feed_dict = {X:x, Y:y})\n",
        "      print('Epochs %f Cost %f Weight %f Bias %f' %(epoch,cost_iter,W1,B1))\n",
        "      \n",
        "  Weight = sess.run(W)\n",
        "  Bias = sess.run(B)\n",
        "    \n",
        "  plt.plot(x_train,y_train,'o')\n",
        "  plt.plot(x_train,Weight*x_train+Bias)\n",
        "  plt.show()\n",
        "      "
      ],
      "execution_count": 6,
      "outputs": [
        {
          "output_type": "stream",
          "text": [
            "Epochs 0.000000 Cost 0.099985 Weight 5.599303 Bias 1.082951\n",
            "Epochs 40.000000 Cost 0.245425 Weight 5.877380 Bias 0.856701\n",
            "Epochs 80.000000 Cost 0.248805 Weight 5.885884 Bias 0.635605\n",
            "Epochs 120.000000 Cost 0.251886 Weight 5.893584 Bias 0.435397\n",
            "Epochs 160.000000 Cost 0.254694 Weight 5.900557 Bias 0.254104\n",
            "Epochs 200.000000 Cost 0.257249 Weight 5.906870 Bias 0.089937\n",
            "Epochs 240.000000 Cost 0.259572 Weight 5.912587 Bias -0.058720\n",
            "Epochs 280.000000 Cost 0.261687 Weight 5.917765 Bias -0.193334\n"
          ],
          "name": "stdout"
        },
        {
          "output_type": "display_data",
          "data": {
            "image/png": "[encoded data removed]",
            "text/plain": [
              "<matplotlib.figure.Figure at 0x7f66dff5c080>"
            ]
          },
          "metadata": {
            "tags": []
          }
        }
      ]
    },
    {
      "metadata": {
        "id": "XvVSFmhFUyyn",
        "colab_type": "code",
        "outputId": "49e654f3-bde8-42ef-a1ed-3e6756415950",
        "colab": {
          "base_uri": "https://localhost:8080/",
          "height": 238
        }
      },
      "cell_type": "code",
      "source": [
        "!wget https://bin.equinox.io/c/4VmDzA7iaHb/ngrok-stable-linux-amd64.zip\n",
        "!unzip ngrok-stable-linux-amd64.zip\n"
      ],
      "execution_count": 7,
      "outputs": [
        {
          "output_type": "stream",
          "text": [
            "--2018-12-09 14:35:55--  https://bin.equinox.io/c/4VmDzA7iaHb/ngrok-stable-linux-amd64.zip\n",
            "Resolving bin.equinox.io (bin.equinox.io)... 52.2.175.150, 52.202.60.111, 52.0.94.50, ...\n",
            "Connecting to bin.equinox.io (bin.equinox.io)|52.2.175.150|:443... connected.\n",
            "HTTP request sent, awaiting response... 200 OK\n",
            "Length: 5363700 (5.1M) [application/octet-stream]\n",
            "Saving to: ‘ngrok-stable-linux-amd64.zip’\n",
            "\n",
            "\r          ngrok-sta   0%[                    ]       0  --.-KB/s               \rngrok-stable-linux- 100%[===================>]   5.11M  --.-KB/s    in 0.1s    \n",
            "\n",
            "2018-12-09 14:35:56 (45.1 MB/s) - ‘ngrok-stable-linux-amd64.zip’ saved [5363700/5363700]\n",
            "\n",
            "Archive:  ngrok-stable-linux-amd64.zip\n",
            "  inflating: ngrok                   \n"
          ],
          "name": "stdout"
        }
      ]
    },
    {
      "metadata": {
        "id": "y75tpfdoVrWE",
        "colab_type": "code",
        "colab": {}
      },
      "cell_type": "code",
      "source": [
        "LOG_DIR = './log_summary'\n",
        "get_ipython().system_raw(\n",
        "    'tensorboard --logdir {} --host 0.0.0.0 --port 6006 &'\n",
        "    .format(LOG_DIR)\n",
        ")"
      ],
      "execution_count": 0,
      "outputs": []
    },
    {
      "metadata": {
        "id": "OgHaqnRhVwRF",
        "colab_type": "code",
        "colab": {}
      },
      "cell_type": "code",
      "source": [
        " get_ipython().system_raw('./ngrok http 6006 &')"
      ],
      "execution_count": 0,
      "outputs": []
    },
    {
      "metadata": {
        "id": "3SeV7cKnWKfW",
        "colab_type": "code",
        "outputId": "17a9012e-d26b-47b4-d9ff-a1a9322c2d49",
        "colab": {
          "base_uri": "https://localhost:8080/",
          "height": 34
        }
      },
      "cell_type": "code",
      "source": [
        "! curl -s http://localhost:4040/api/tunnels | python3 -c \\\n",
        "    \"import sys, json; print(json.load(sys.stdin)['tunnels'][0]['public_url'])\""
      ],
      "execution_count": 10,
      "outputs": [
        {
          "output_type": "stream",
          "text": [
            "http://7962a330.ngrok.io\n"
          ],
          "name": "stdout"
        }
      ]
    },
    {
      "metadata": {
        "id": "LaQ2v5IpTqOB",
        "colab_type": "code",
        "colab": {
          "base_uri": "https://localhost:8080/",
          "height": 221
        },
        "outputId": "50e7375f-6895-4fcd-c18c-248950b9e9ff"
      },
      "cell_type": "code",
      "source": [
        "# alternative \n",
        "\n",
        "\n",
        "!pip install tensorboardcolab\n",
        "from tensorboardcolab import TensorBoardColab, TensorBoardColabCallback\n",
        "\n",
        "tbc=TensorBoardColab()"
      ],
      "execution_count": 12,
      "outputs": [
        {
          "output_type": "stream",
          "text": [
            "Collecting tensorboardcolab\n",
            "  Downloading https://files.pythonhosted.org/packages/73/3d/eaf745e162e471c5bb2737a407d8626fb8684a88cf085045456aeb841d3c/tensorboardcolab-0.0.19.tar.gz\n",
            "Building wheels for collected packages: tensorboardcolab\n",
            "  Running setup.py bdist_wheel for tensorboardcolab ... \u001b[?25l-\b \bdone\n",
            "\u001b[?25h  Stored in directory: /root/.cache/pip/wheels/ab/74/02/cda602d1dc28b2f12eab313c49b9bfa14d6371326bc2590e06\n",
            "Successfully built tensorboardcolab\n",
            "Installing collected packages: tensorboardcolab\n",
            "Successfully installed tensorboardcolab-0.0.19\n"
          ],
          "name": "stdout"
        },
        {
          "output_type": "stream",
          "text": [
            "Using TensorFlow backend.\n"
          ],
          "name": "stderr"
        },
        {
          "output_type": "stream",
          "text": [
            "Wait for 8 seconds...\n",
            "TensorBoard link:\n",
            "http://7962a330.ngrok.io\n"
          ],
          "name": "stdout"
        }
      ]
    },
    {
      "metadata": {
        "id": "7D8G2rQHTlkU",
        "colab_type": "code",
        "colab": {}
      },
      "cell_type": "code",
      "source": [
        ""
      ],
      "execution_count": 0,
      "outputs": []
    },
    {
      "metadata": {
        "id": "fmFEYe8ORawq",
        "colab_type": "code",
        "colab": {}
      },
      "cell_type": "code",
      "source": [
        ""
      ],
      "execution_count": 0,
      "outputs": []
    },
    {
      "metadata": {
        "id": "kFYcqrbCQpLn",
        "colab_type": "code",
        "colab": {}
      },
      "cell_type": "code",
      "source": [
        ""
      ],
      "execution_count": 0,
      "outputs": []
    },
    {
      "metadata": {
        "id": "ZnjLEoI_Qj9q",
        "colab_type": "code",
        "colab": {}
      },
      "cell_type": "code",
      "source": [
        ""
      ],
      "execution_count": 0,
      "outputs": []
    },
    {
      "metadata": {
        "id": "EcsbA6xnQecG",
        "colab_type": "code",
        "colab": {}
      },
      "cell_type": "code",
      "source": [
        ""
      ],
      "execution_count": 0,
      "outputs": []
    },
    {
      "metadata": {
        "id": "pZgTSyf0Qb-E",
        "colab_type": "code",
        "colab": {}
      },
      "cell_type": "code",
      "source": [
        ""
      ],
      "execution_count": 0,
      "outputs": []
    },
    {
      "metadata": {
        "id": "xF4X9Y09PCGl",
        "colab_type": "code",
        "colab": {}
      },
      "cell_type": "code",
      "source": [
        "#"
      ],
      "execution_count": 0,
      "outputs": []
    }
  ]
}