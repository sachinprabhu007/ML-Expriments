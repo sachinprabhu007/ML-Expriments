{
  "nbformat": 4,
  "nbformat_minor": 0,
  "metadata": {
    "colab": {
      "name": "MNIST_Keras implementation with dropout and hidden layers",
      "version": "0.3.2",
      "provenance": [],
      "collapsed_sections": [],
      "include_colab_link": true
    },
    "kernelspec": {
      "name": "python3",
      "display_name": "Python 3"
    }
  },
  "cells": [
    {
      "cell_type": "markdown",
      "metadata": {
        "id": "view-in-github",
        "colab_type": "text"
      },
      "source": [
        "<a href=\"https://colab.research.google.com/github/sachinprabhu007/ML-Expriments-/blob/master/MNIST_Keras_implementation_with_dropout_and_hidden_layers.ipynb\" target=\"_parent\"><img src=\"https://colab.research.google.com/assets/colab-badge.svg\" alt=\"Open In Colab\"/></a>"
      ]
    },
    {
      "metadata": {
        "id": "lfU7roPxEUQk",
        "colab_type": "code",
        "colab": {
          "base_uri": "https://localhost:8080/",
          "height": 67
        },
        "outputId": "909c3ed2-d47d-47c7-a3cb-a8d683889048"
      },
      "cell_type": "code",
      "source": [
        "from __future__ import print_function\n",
        "import numpy as np\n",
        "from keras.datasets import mnist\n",
        "from keras.models import Sequential\n",
        "from keras.layers import Dense, Dropout, Activation\n",
        "from keras.optimizers import SGD\n",
        "from keras.utils import np_utils\n",
        "from keras.optimizers import RMSprop, Adam\n",
        "\n",
        "np.random.seed(1671) # for reproducibility\n",
        "# network and training\n",
        "NB_EPOCH = 20\n",
        "BATCH_SIZE = 128\n",
        "VERBOSE = 1\n",
        "NB_CLASSES = 10 # number of outputs = number of digits\n",
        "#OPTIMIZER = SGD() \n",
        "OPTIMIZER = Adam()\n",
        "\n",
        "N_HIDDEN = 128\n",
        "VALIDATION_SPLIT=0.2 # how much TRAIN is reserved for VALIDATION\n",
        "DROPOUT = 0.3\n",
        "\n",
        "# data: shuffled and split between train and test sets\n",
        "(X_train, y_train),(X_test, y_test) = mnist.load_data()\n",
        "#X_train is 60000 rows of 28x28 values --> reshaped in 60000 x 784\n",
        "\n",
        "RESHAPED = 784\n",
        "X_train = X_train.reshape(60000, RESHAPED)\n",
        "X_test = X_test.reshape(10000, RESHAPED)\n",
        "\n",
        "X_train = X_train.astype('float32')\n",
        "X_test = X_test.astype('float32')\n",
        "\n",
        "# normalize\n",
        "\n",
        "X_train /= 255\n",
        "X_test /= 255\n",
        "\n",
        "print(X_train.shape[0], 'train samples')\n",
        "print(X_test.shape[0], 'test samples')\n",
        "\n",
        "# convert class vectors to binary class matrices\n",
        "Y_train = np_utils.to_categorical(y_train, NB_CLASSES)\n",
        "Y_test = np_utils.to_categorical(y_test, NB_CLASSES)"
      ],
      "execution_count": 1,
      "outputs": [
        {
          "output_type": "stream",
          "text": [
            "Using TensorFlow backend.\n"
          ],
          "name": "stderr"
        },
        {
          "output_type": "stream",
          "text": [
            "60000 train samples\n",
            "10000 test samples\n"
          ],
          "name": "stdout"
        }
      ]
    },
    {
      "metadata": {
        "id": "qiioxb2rHuC8",
        "colab_type": "code",
        "colab": {
          "base_uri": "https://localhost:8080/",
          "height": 403
        },
        "outputId": "30ecabf3-1f0a-4f55-f5a1-8aafa4298971"
      },
      "cell_type": "code",
      "source": [
        "# 10 outputs\n",
        "# final stage is softmax\n",
        "model = Sequential()\n",
        "model.add(Dense(N_HIDDEN, input_shape=(RESHAPED,)))\n",
        "model.add(Activation('relu'))\n",
        "model.add(Dropout(DROPOUT))\n",
        "\n",
        "model.add(Dense(N_HIDDEN))\n",
        "model.add(Activation('relu'))\n",
        "model.add(Dropout(DROPOUT))\n",
        "\n",
        "\n",
        "model.add(Dense(NB_CLASSES))\n",
        "model.add(Activation('softmax'))\n",
        "model.summary()"
      ],
      "execution_count": 2,
      "outputs": [
        {
          "output_type": "stream",
          "text": [
            "_________________________________________________________________\n",
            "Layer (type)                 Output Shape              Param #   \n",
            "=================================================================\n",
            "dense_1 (Dense)              (None, 128)               100480    \n",
            "_________________________________________________________________\n",
            "activation_1 (Activation)    (None, 128)               0         \n",
            "_________________________________________________________________\n",
            "dropout_1 (Dropout)          (None, 128)               0         \n",
            "_________________________________________________________________\n",
            "dense_2 (Dense)              (None, 128)               16512     \n",
            "_________________________________________________________________\n",
            "activation_2 (Activation)    (None, 128)               0         \n",
            "_________________________________________________________________\n",
            "dropout_2 (Dropout)          (None, 128)               0         \n",
            "_________________________________________________________________\n",
            "dense_3 (Dense)              (None, 10)                1290      \n",
            "_________________________________________________________________\n",
            "activation_3 (Activation)    (None, 10)                0         \n",
            "=================================================================\n",
            "Total params: 118,282\n",
            "Trainable params: 118,282\n",
            "Non-trainable params: 0\n",
            "_________________________________________________________________\n"
          ],
          "name": "stdout"
        }
      ]
    },
    {
      "metadata": {
        "id": "TEkURy9OHz5K",
        "colab_type": "code",
        "colab": {}
      },
      "cell_type": "code",
      "source": [
        "model.compile(loss='categorical_crossentropy',\n",
        "             optimizer=OPTIMIZER,\n",
        "             metrics=['accuracy'])"
      ],
      "execution_count": 0,
      "outputs": []
    },
    {
      "metadata": {
        "id": "dAExssyXwIu6",
        "colab_type": "code",
        "colab": {}
      },
      "cell_type": "code",
      "source": [
        ""
      ],
      "execution_count": 0,
      "outputs": []
    },
    {
      "metadata": {
        "id": "m2PS-nK5H2g3",
        "colab_type": "code",
        "colab": {
          "base_uri": "https://localhost:8080/",
          "height": 706
        },
        "outputId": "636f2b3a-2707-452c-83cf-c44efc3108f3"
      },
      "cell_type": "code",
      "source": [
        "history = model.fit(X_train,Y_train,\n",
        "                   batch_size=BATCH_SIZE,\n",
        "                   epochs=NB_EPOCH,\n",
        "                   verbose=VERBOSE,\n",
        "                   validation_split = VALIDATION_SPLIT)"
      ],
      "execution_count": 4,
      "outputs": [
        {
          "output_type": "stream",
          "text": [
            "Train on 48000 samples, validate on 12000 samples\n",
            "Epoch 1/20\n",
            "48000/48000 [==============================] - 3s 63us/step - loss: 0.5183 - acc: 0.8432 - val_loss: 0.1896 - val_acc: 0.9433\n",
            "Epoch 2/20\n",
            "48000/48000 [==============================] - 3s 56us/step - loss: 0.2348 - acc: 0.9297 - val_loss: 0.1407 - val_acc: 0.9577\n",
            "Epoch 3/20\n",
            "48000/48000 [==============================] - 3s 56us/step - loss: 0.1829 - acc: 0.9461 - val_loss: 0.1160 - val_acc: 0.9656\n",
            "Epoch 4/20\n",
            "48000/48000 [==============================] - 3s 56us/step - loss: 0.1555 - acc: 0.9534 - val_loss: 0.1093 - val_acc: 0.9683\n",
            "Epoch 5/20\n",
            "48000/48000 [==============================] - 3s 56us/step - loss: 0.1338 - acc: 0.9593 - val_loss: 0.1000 - val_acc: 0.9714\n",
            "Epoch 6/20\n",
            "48000/48000 [==============================] - 3s 55us/step - loss: 0.1223 - acc: 0.9628 - val_loss: 0.0896 - val_acc: 0.9737\n",
            "Epoch 7/20\n",
            "48000/48000 [==============================] - 3s 54us/step - loss: 0.1090 - acc: 0.9661 - val_loss: 0.0938 - val_acc: 0.9707\n",
            "Epoch 8/20\n",
            "48000/48000 [==============================] - 3s 55us/step - loss: 0.1015 - acc: 0.9689 - val_loss: 0.0868 - val_acc: 0.9752\n",
            "Epoch 9/20\n",
            "48000/48000 [==============================] - 3s 55us/step - loss: 0.0928 - acc: 0.9709 - val_loss: 0.0843 - val_acc: 0.9753\n",
            "Epoch 10/20\n",
            "48000/48000 [==============================] - 3s 54us/step - loss: 0.0865 - acc: 0.9734 - val_loss: 0.0812 - val_acc: 0.9761\n",
            "Epoch 11/20\n",
            "48000/48000 [==============================] - 3s 54us/step - loss: 0.0804 - acc: 0.9739 - val_loss: 0.0815 - val_acc: 0.9758\n",
            "Epoch 12/20\n",
            "48000/48000 [==============================] - 3s 55us/step - loss: 0.0775 - acc: 0.9753 - val_loss: 0.0789 - val_acc: 0.9772\n",
            "Epoch 13/20\n",
            "48000/48000 [==============================] - 3s 54us/step - loss: 0.0737 - acc: 0.9766 - val_loss: 0.0793 - val_acc: 0.9765\n",
            "Epoch 14/20\n",
            "48000/48000 [==============================] - 3s 54us/step - loss: 0.0681 - acc: 0.9785 - val_loss: 0.0829 - val_acc: 0.9766\n",
            "Epoch 15/20\n",
            "48000/48000 [==============================] - 3s 55us/step - loss: 0.0685 - acc: 0.9778 - val_loss: 0.0823 - val_acc: 0.9772\n",
            "Epoch 16/20\n",
            "48000/48000 [==============================] - 3s 54us/step - loss: 0.0655 - acc: 0.9788 - val_loss: 0.0835 - val_acc: 0.9774\n",
            "Epoch 17/20\n",
            "48000/48000 [==============================] - 3s 55us/step - loss: 0.0597 - acc: 0.9804 - val_loss: 0.0801 - val_acc: 0.9778\n",
            "Epoch 18/20\n",
            "48000/48000 [==============================] - 3s 55us/step - loss: 0.0586 - acc: 0.9808 - val_loss: 0.0774 - val_acc: 0.9768\n",
            "Epoch 19/20\n",
            "48000/48000 [==============================] - 3s 56us/step - loss: 0.0589 - acc: 0.9803 - val_loss: 0.0850 - val_acc: 0.9777\n",
            "Epoch 20/20\n",
            "48000/48000 [==============================] - 3s 55us/step - loss: 0.0563 - acc: 0.9813 - val_loss: 0.0824 - val_acc: 0.9775\n"
          ],
          "name": "stdout"
        }
      ]
    },
    {
      "metadata": {
        "id": "0GWPurTUwQmr",
        "colab_type": "code",
        "colab": {
          "base_uri": "https://localhost:8080/",
          "height": 67
        },
        "outputId": "bbaea140-0a5d-4660-fd4c-1bd2402da002"
      },
      "cell_type": "code",
      "source": [
        "score = model.evaluate(X_test,Y_test, verbose = VERBOSE)\n",
        "print('Test score:', score[0])\n",
        "print('Test accuracy:', score[1])"
      ],
      "execution_count": 5,
      "outputs": [
        {
          "output_type": "stream",
          "text": [
            "10000/10000 [==============================] - 0s 28us/step\n",
            "Test score: 0.07587413650284143\n",
            "Test accuracy: 0.9786\n"
          ],
          "name": "stdout"
        }
      ]
    },
    {
      "metadata": {
        "id": "iVO7qPGt0xmW",
        "colab_type": "text"
      },
      "cell_type": "markdown",
      "source": [
        "**Layers** - 3 \n",
        "\n",
        "**For epoch = 200**\n",
        "\n",
        "10000/10000 [==============================] - 0s 28us/step\n",
        "\n",
        "Test score: 0.07601802289183252\n",
        "\n",
        "Test accuracy: 0.9764\n",
        "\n",
        "**For epoch = 20**\n",
        "\n",
        "10000/10000 [==============================] - 0s 26us/step\n",
        "\n",
        "Test score: 0.18603398130089044\n",
        "\n",
        "Test accuracy: 0.9462"
      ]
    },
    {
      "metadata": {
        "id": "TRRmjnRv2eQm",
        "colab_type": "text"
      },
      "cell_type": "markdown",
      "source": [
        "**Only 2 layers  and epoch = 20** \n",
        "\n",
        "only 1 hidden layer\n",
        "\n",
        "\n",
        "10000/10000 [==============================] - 0s 32us/step\n",
        "\n",
        "Test score: 0.235391285315156\n",
        "\n",
        "Test accuracy: 0.935\n",
        "\n",
        "\n",
        "**3 layers** \n",
        "\n",
        "**DROPOUT = 0.3 **\n",
        "epoch = 250\n",
        "\n",
        "add dropout for 2 hidden layers\n",
        "\n",
        "10000/10000 [==============================] - 0s 26us/step\n",
        "\n",
        "Test score: 0.07751633399298881\n",
        "\n",
        "Test accuracy: 0.9779\n",
        "\n",
        "**epoch = 20**\n",
        "\n",
        "10000/10000 [==============================] - 0s 27us/step\n",
        "\n",
        "Test score: 0.1994345935150981\n",
        "\n",
        "Test accuracy: 0.9399\n",
        "\n",
        "**changing optimizers  , epoch = 20**\n",
        "\n",
        "**with RMSProp()**\n",
        "\n",
        "10000/10000 [==============================] - 0s 27us/step\n",
        "\n",
        "Test score: 0.09262821478234255\n",
        "\n",
        "Test accuracy: 0.9769\n",
        "\n",
        "**with Adam()**\n",
        "\n",
        "10000/10000 [==============================] - 0s 28us/step\n",
        "\n",
        "Test score: 0.07587413650284143\n",
        "\n",
        "Test accuracy: 0.9786\n",
        "\n",
        "\n",
        "\n",
        "\n"
      ]
    }
  ]
}