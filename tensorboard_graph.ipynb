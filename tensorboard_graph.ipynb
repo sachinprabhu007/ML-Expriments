{
  "nbformat": 4,
  "nbformat_minor": 0,
  "metadata": {
    "colab": {
      "name": "tensorboard_graph.ipynb",
      "version": "0.3.2",
      "provenance": [],
      "collapsed_sections": [],
      "include_colab_link": true
    },
    "kernelspec": {
      "name": "python3",
      "display_name": "Python 3"
    }
  },
  "cells": [
    {
      "cell_type": "markdown",
      "metadata": {
        "id": "view-in-github",
        "colab_type": "text"
      },
      "source": [
        "<a href=\"https://colab.research.google.com/github/sachinprabhu007/ML-Expriments/blob/master/tensorboard_graph.ipynb\" target=\"_parent\"><img src=\"https://colab.research.google.com/assets/colab-badge.svg\" alt=\"Open In Colab\"/></a>"
      ]
    },
    {
      "metadata": {
        "id": "ydLknhdc2zII",
        "colab_type": "code",
        "colab": {
          "base_uri": "https://localhost:8080/",
          "height": 35
        },
        "outputId": "96dd336d-162d-49c4-ea7c-1ee1359078e1"
      },
      "cell_type": "code",
      "source": [
        "import tensorflow as tf\n",
        "\n",
        "a = tf.add(1,2, name='addition_1')\n",
        "b = tf.multiply(a,3, name='multiplying_1')\n",
        "\n",
        "c = tf.add(4,5, name='addition_2')\n",
        "d = tf.multiply(c,6, name='multiplying_2')\n",
        "f = tf.div(c,6, name='division')\n",
        "\n",
        "g = tf.add(b,d)\n",
        "h = tf.multiply(g,f)\n",
        "\n",
        "with tf.Session() as sess:\n",
        "  writer  = tf.summary.FileWriter('./log_tf_summary',sess.graph)\n",
        "  print(sess.run(h))\n",
        "  writer.close()"
      ],
      "execution_count": 1,
      "outputs": [
        {
          "output_type": "stream",
          "text": [
            "63\n"
          ],
          "name": "stdout"
        }
      ]
    },
    {
      "metadata": {
        "id": "GniiPo5CNIOq",
        "colab_type": "code",
        "colab": {
          "base_uri": "https://localhost:8080/",
          "height": 35
        },
        "outputId": "d69fc62d-8ddc-45c7-85d7-abf7a79d6999"
      },
      "cell_type": "code",
      "source": [
        "import tensorflow as tf\n",
        "\n",
        "with tf.name_scope('My_Graph'):\n",
        "  with tf.name_scope('Scope_1'):\n",
        "    a = tf.add(1,2, name='addition_1')\n",
        "    b = tf.multiply(a,3, name='multiplying_1')\n",
        "  with tf.name_scope('Scope_2')  :\n",
        "    c = tf.add(4,5, name='addition_2')\n",
        "    d = tf.multiply(c,6, name='multiplying_2')\n",
        "\n",
        "with tf.name_scope('Scope_3'):\n",
        "  e = tf.multiply(4,5)\n",
        "  f = tf.div(c,6, name='division')\n",
        "\n",
        "g = tf.add(b,d)\n",
        "h = tf.multiply(g,f)\n",
        "\n",
        "with tf.Session() as sess:\n",
        "  writer  = tf.summary.FileWriter('./log_tf_summary',sess.graph)\n",
        "  print(sess.run(h))\n",
        "  writer.close()"
      ],
      "execution_count": 2,
      "outputs": [
        {
          "output_type": "stream",
          "text": [
            "63\n"
          ],
          "name": "stdout"
        }
      ]
    },
    {
      "metadata": {
        "id": "P7tNFULbLzZ4",
        "colab_type": "code",
        "colab": {
          "base_uri": "https://localhost:8080/",
          "height": 159
        },
        "outputId": "300da173-5939-4beb-9a9f-6553d0a64517"
      },
      "cell_type": "code",
      "source": [
        "!pip install tensorboardcolab"
      ],
      "execution_count": 3,
      "outputs": [
        {
          "output_type": "stream",
          "text": [
            "Collecting tensorboardcolab\n",
            "  Downloading https://files.pythonhosted.org/packages/73/3d/eaf745e162e471c5bb2737a407d8626fb8684a88cf085045456aeb841d3c/tensorboardcolab-0.0.19.tar.gz\n",
            "Building wheels for collected packages: tensorboardcolab\n",
            "  Running setup.py bdist_wheel for tensorboardcolab ... \u001b[?25l-\b \bdone\n",
            "\u001b[?25h  Stored in directory: /root/.cache/pip/wheels/ab/74/02/cda602d1dc28b2f12eab313c49b9bfa14d6371326bc2590e06\n",
            "Successfully built tensorboardcolab\n",
            "Installing collected packages: tensorboardcolab\n",
            "Successfully installed tensorboardcolab-0.0.19\n"
          ],
          "name": "stdout"
        }
      ]
    },
    {
      "metadata": {
        "id": "t_UfYXUEMQf1",
        "colab_type": "code",
        "colab": {}
      },
      "cell_type": "code",
      "source": [
        "LOG_DIR = './log_tf_summary'\n",
        "get_ipython().system_raw(\n",
        "    'tensorboard --logdir {} --host 0.0.0.0 --port 6006 &'\n",
        "    .format(LOG_DIR)\n",
        ")"
      ],
      "execution_count": 0,
      "outputs": []
    },
    {
      "metadata": {
        "id": "jl2SavlxLz-Q",
        "colab_type": "code",
        "colab": {
          "base_uri": "https://localhost:8080/",
          "height": 88
        },
        "outputId": "56381698-a613-4c6a-dcfe-dcbc741a2301"
      },
      "cell_type": "code",
      "source": [
        "from tensorboardcolab import TensorBoardColab, TensorBoardColabCallback\n",
        "\n",
        "tbc=TensorBoardColab()\n"
      ],
      "execution_count": 5,
      "outputs": [
        {
          "output_type": "stream",
          "text": [
            "Using TensorFlow backend.\n"
          ],
          "name": "stderr"
        },
        {
          "output_type": "stream",
          "text": [
            "Wait for 8 seconds...\n",
            "TensorBoard link:\n",
            "https://badde95d.ngrok.io\n"
          ],
          "name": "stdout"
        }
      ]
    },
    {
      "metadata": {
        "id": "-NC9ZiTvL6RH",
        "colab_type": "code",
        "colab": {}
      },
      "cell_type": "code",
      "source": [
        ""
      ],
      "execution_count": 0,
      "outputs": []
    },
    {
      "metadata": {
        "id": "HtzKF3HgL2Ui",
        "colab_type": "code",
        "colab": {}
      },
      "cell_type": "code",
      "source": [
        ""
      ],
      "execution_count": 0,
      "outputs": []
    }
  ]
}