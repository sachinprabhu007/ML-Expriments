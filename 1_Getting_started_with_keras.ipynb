{
  "nbformat": 4,
  "nbformat_minor": 0,
  "metadata": {
    "colab": {
      "name": "1- Getting started with keras.ipynb",
      "version": "0.3.2",
      "provenance": [],
      "include_colab_link": true
    },
    "kernelspec": {
      "name": "python3",
      "display_name": "Python 3"
    }
  },
  "cells": [
    {
      "cell_type": "markdown",
      "metadata": {
        "id": "view-in-github",
        "colab_type": "text"
      },
      "source": [
        "<a href=\"https://colab.research.google.com/github/sachinprabhu007/ML-Expriments/blob/master/1_Getting_started_with_keras.ipynb\" target=\"_parent\"><img src=\"https://colab.research.google.com/assets/colab-badge.svg\" alt=\"Open In Colab\"/></a>"
      ]
    },
    {
      "metadata": {
        "id": "MQx59sj89xMK",
        "colab_type": "code",
        "colab": {}
      },
      "cell_type": "code",
      "source": [
        "from __future__ import print_function\n",
        "import numpy as np"
      ],
      "execution_count": 0,
      "outputs": []
    },
    {
      "metadata": {
        "id": "LgxOSPTT93nK",
        "colab_type": "code",
        "colab": {
          "base_uri": "https://localhost:8080/",
          "height": 351
        },
        "outputId": "a053d38c-00db-4882-9e1f-663843c42749"
      },
      "cell_type": "code",
      "source": [
        "np.random.seed(42) # for reproducibility\n",
        "\n",
        "from keras.models import Sequential\n",
        "from keras.layers.core import Dense, Dropout, Activation\n",
        "\n",
        "model = Sequential()\n",
        "model.add(Dense(512, input_shape = (784,)))\n",
        "model.add(Activation('relu'))\n",
        "model.add(Dense(512))\n",
        "model.add(Activation('relu'))\n",
        "model.add(Dense(10))\n",
        "model.add(Activation('softmax'))\n",
        "\n",
        "model.summary()"
      ],
      "execution_count": 3,
      "outputs": [
        {
          "output_type": "stream",
          "text": [
            "Using TensorFlow backend.\n"
          ],
          "name": "stderr"
        },
        {
          "output_type": "stream",
          "text": [
            "_________________________________________________________________\n",
            "Layer (type)                 Output Shape              Param #   \n",
            "=================================================================\n",
            "dense_1 (Dense)              (None, 512)               401920    \n",
            "_________________________________________________________________\n",
            "activation_1 (Activation)    (None, 512)               0         \n",
            "_________________________________________________________________\n",
            "dense_2 (Dense)              (None, 512)               262656    \n",
            "_________________________________________________________________\n",
            "activation_2 (Activation)    (None, 512)               0         \n",
            "_________________________________________________________________\n",
            "dense_3 (Dense)              (None, 10)                5130      \n",
            "_________________________________________________________________\n",
            "activation_3 (Activation)    (None, 10)                0         \n",
            "=================================================================\n",
            "Total params: 669,706\n",
            "Trainable params: 669,706\n",
            "Non-trainable params: 0\n",
            "_________________________________________________________________\n"
          ],
          "name": "stdout"
        }
      ]
    },
    {
      "metadata": {
        "id": "yyln2Fmb-wV2",
        "colab_type": "code",
        "colab": {}
      },
      "cell_type": "code",
      "source": [
        ""
      ],
      "execution_count": 0,
      "outputs": []
    },
    {
      "metadata": {
        "id": "B5yBeTlw_Klh",
        "colab_type": "text"
      },
      "cell_type": "markdown",
      "source": [
        "model  = Sequential() :  Sequential models are stack of layers where the output of the previous layer is the input of the current layer\n",
        "\n",
        "model.add: adds a layer to the model\n",
        "\n",
        "Dense: a dense layer simply performs an affine transform z = Wx + b\n",
        "\n",
        "Activation: applies an elementwise non linearity g() to the output of the previous layer a = g(z)\n",
        "\n",
        "you do not have to add it searately: the initializer for most layers in Keras, including Dense, has a \n",
        "keyword argument 'activation'.\n",
        "\n"
      ]
    },
    {
      "metadata": {
        "id": "INpNvDBv_21x",
        "colab_type": "code",
        "colab": {
          "base_uri": "https://localhost:8080/",
          "height": 84
        },
        "outputId": "58d9f4f5-0f59-4f96-f1b5-e8b04aa9afc5"
      },
      "cell_type": "code",
      "source": [
        "from keras.datasets import mnist\n",
        "from keras.utils import np_utils\n",
        "\n",
        "# the data , shuffled and split between train and test sets\n",
        "\n",
        "(X_train, y_train),(X_test,y_test) = mnist.load_data()\n",
        "\n",
        "nb_classes = 10 #digits from 0 to 9\n",
        "\n",
        "X_train = X_train.reshape(60000,784)\n",
        "X_test  = X_test.reshape(10000,784)\n",
        "X_train = X_train.astype('float32')\n",
        "X_test = X_test.astype('float32')\n",
        "\n",
        "X_train /= 255\n",
        "X_test /= 255\n",
        "\n",
        "print(X_train.shape[0],'train samples')\n",
        "print(X_test.shape[0],'test samples')\n",
        "\n",
        "#convert class vectors to binary class metrics\n",
        "\n",
        "Y_train = np_utils.to_categorical(y_train,nb_classes)\n",
        "Y_test = np_utils.to_categorical(y_test,nb_classes)"
      ],
      "execution_count": 4,
      "outputs": [
        {
          "output_type": "stream",
          "text": [
            "Downloading data from https://s3.amazonaws.com/img-datasets/mnist.npz\n",
            "11493376/11490434 [==============================] - 0s 0us/step\n",
            "60000 train samples\n",
            "10000 test samples\n"
          ],
          "name": "stdout"
        }
      ]
    },
    {
      "metadata": {
        "id": "gLEF91xFCM0c",
        "colab_type": "code",
        "colab": {
          "base_uri": "https://localhost:8080/",
          "height": 281
        },
        "outputId": "92006d1c-388a-42c3-aa68-0e61f30424d1"
      },
      "cell_type": "code",
      "source": [
        "%matplotlib inline \n",
        "from matplotlib import pyplot as plt\n",
        "\n",
        "plt.imshow(X_train[1].reshape(28,28),cmap='gray')"
      ],
      "execution_count": 6,
      "outputs": [
        {
          "output_type": "execute_result",
          "data": {
            "text/plain": [
              "<matplotlib.image.AxesImage at 0x7ff48a4328d0>"
            ]
          },
          "metadata": {
            "tags": []
          },
          "execution_count": 6
        },
        {
          "output_type": "display_data",
          "data": {
            "image/png": "[encoded data removed]",
            "text/plain": [
              "<matplotlib.figure.Figure at 0x7ff48a931da0>"
            ]
          },
          "metadata": {
            "tags": []
          }
        }
      ]
    },
    {
      "metadata": {
        "id": "T8HhlAPMCbpR",
        "colab_type": "code",
        "colab": {}
      },
      "cell_type": "code",
      "source": [
        "from keras.optimizers import SGD, Adam, RMSprop\n",
        "\n",
        "model.compile(loss='categorical_crossentropy',\n",
        "             optimizer = RMSprop(),\n",
        "             metrics = ['accuracy'])"
      ],
      "execution_count": 0,
      "outputs": []
    },
    {
      "metadata": {
        "id": "f3bQfXf9CsEM",
        "colab_type": "code",
        "colab": {
          "base_uri": "https://localhost:8080/",
          "height": 401
        },
        "outputId": "cad01c77-0624-4487-90d7-c295a7d78860"
      },
      "cell_type": "code",
      "source": [
        "batch_size = 128\n",
        "nb_epoch = 10\n",
        "\n",
        "history = model.fit(X_train,Y_train,\n",
        "                   batch_size = batch_size,\n",
        "                   nb_epoch = nb_epoch,\n",
        "                   verbose = 1,\n",
        "                   validation_data=(X_test,Y_test))"
      ],
      "execution_count": 9,
      "outputs": [
        {
          "output_type": "stream",
          "text": [
            "/usr/local/lib/python3.6/dist-packages/ipykernel_launcher.py:8: UserWarning: The `nb_epoch` argument in `fit` has been renamed `epochs`.\n",
            "  \n"
          ],
          "name": "stderr"
        },
        {
          "output_type": "stream",
          "text": [
            "Train on 60000 samples, validate on 10000 samples\n",
            "Epoch 1/10\n",
            "60000/60000 [==============================] - 11s 184us/step - loss: 0.2215 - acc: 0.9318 - val_loss: 0.1178 - val_acc: 0.9606\n",
            "Epoch 2/10\n",
            "60000/60000 [==============================] - 10s 171us/step - loss: 0.0811 - acc: 0.9749 - val_loss: 0.0935 - val_acc: 0.9723\n",
            "Epoch 3/10\n",
            "60000/60000 [==============================] - 10s 168us/step - loss: 0.0538 - acc: 0.9833 - val_loss: 0.0841 - val_acc: 0.9755\n",
            "Epoch 4/10\n",
            "60000/60000 [==============================] - 10s 170us/step - loss: 0.0404 - acc: 0.9875 - val_loss: 0.0840 - val_acc: 0.9777\n",
            "Epoch 5/10\n",
            "60000/60000 [==============================] - 10s 169us/step - loss: 0.0301 - acc: 0.9909 - val_loss: 0.0792 - val_acc: 0.9797\n",
            "Epoch 6/10\n",
            "60000/60000 [==============================] - 10s 169us/step - loss: 0.0226 - acc: 0.9929 - val_loss: 0.0899 - val_acc: 0.9812\n",
            "Epoch 7/10\n",
            "60000/60000 [==============================] - 10s 168us/step - loss: 0.0197 - acc: 0.9941 - val_loss: 0.1006 - val_acc: 0.9783\n",
            "Epoch 8/10\n",
            "60000/60000 [==============================] - 10s 169us/step - loss: 0.0147 - acc: 0.9953 - val_loss: 0.0984 - val_acc: 0.9814\n",
            "Epoch 9/10\n",
            "60000/60000 [==============================] - 10s 168us/step - loss: 0.0142 - acc: 0.9957 - val_loss: 0.1222 - val_acc: 0.9786\n",
            "Epoch 10/10\n",
            "60000/60000 [==============================] - 10s 167us/step - loss: 0.0111 - acc: 0.9963 - val_loss: 0.1169 - val_acc: 0.9794\n"
          ],
          "name": "stdout"
        }
      ]
    },
    {
      "metadata": {
        "id": "p5osSWXDC-_Q",
        "colab_type": "code",
        "colab": {
          "base_uri": "https://localhost:8080/",
          "height": 745
        },
        "outputId": "94c444c8-8b1d-4605-d0cb-9b2d9ad79bb0"
      },
      "cell_type": "code",
      "source": [
        "from IPython.display import SVG\n",
        "from keras.utils.vis_utils import model_to_dot\n",
        "\n",
        "SVG(model_to_dot(model, show_shapes=True).create(prog='dot',format='svg'))"
      ],
      "execution_count": 13,
      "outputs": [
        {
          "output_type": "execute_result",
          "data": {
            "text/plain": [
              "<IPython.core.display.SVG object>"
            ],
            "image/svg+xml": "<svg height=\"543pt\" viewBox=\"0.00 0.00 307.00 543.00\" width=\"307pt\" xmlns=\"http://www.w3.org/2000/svg\" xmlns:xlink=\"http://www.w3.org/1999/xlink\">\n<g class=\"graph\" id=\"graph0\" transform=\"scale(1 1) rotate(0) translate(4 539)\">\n<title>G</title>\n<polygon fill=\"#ffffff\" points=\"-4,4 -4,-539 303,-539 303,4 -4,4\" stroke=\"transparent\"/>\n<!-- 140688769025752 -->\n<g class=\"node\" id=\"node1\">\n<title>140688769025752</title>\n<polygon fill=\"none\" points=\"23.5,-415.5 23.5,-461.5 275.5,-461.5 275.5,-415.5 23.5,-415.5\" stroke=\"#000000\"/>\n<text fill=\"#000000\" font-family=\"Times,serif\" font-size=\"14.00\" text-anchor=\"middle\" x=\"77\" y=\"-434.8\">dense_1: Dense</text>\n<polyline fill=\"none\" points=\"130.5,-415.5 130.5,-461.5 \" stroke=\"#000000\"/>\n<text fill=\"#000000\" font-family=\"Times,serif\" font-size=\"14.00\" text-anchor=\"middle\" x=\"159.5\" y=\"-446.3\">input:</text>\n<polyline fill=\"none\" points=\"130.5,-438.5 188.5,-438.5 \" stroke=\"#000000\"/>\n<text fill=\"#000000\" font-family=\"Times,serif\" font-size=\"14.00\" text-anchor=\"middle\" x=\"159.5\" y=\"-423.3\">output:</text>\n<polyline fill=\"none\" points=\"188.5,-415.5 188.5,-461.5 \" stroke=\"#000000\"/>\n<text fill=\"#000000\" font-family=\"Times,serif\" font-size=\"14.00\" text-anchor=\"middle\" x=\"232\" y=\"-446.3\">(None, 784)</text>\n<polyline fill=\"none\" points=\"188.5,-438.5 275.5,-438.5 \" stroke=\"#000000\"/>\n<text fill=\"#000000\" font-family=\"Times,serif\" font-size=\"14.00\" text-anchor=\"middle\" x=\"232\" y=\"-423.3\">(None, 512)</text>\n</g>\n<!-- 140688529119496 -->\n<g class=\"node\" id=\"node2\">\n<title>140688529119496</title>\n<polygon fill=\"none\" points=\"0,-332.5 0,-378.5 299,-378.5 299,-332.5 0,-332.5\" stroke=\"#000000\"/>\n<text fill=\"#000000\" font-family=\"Times,serif\" font-size=\"14.00\" text-anchor=\"middle\" x=\"77\" y=\"-351.8\">activation_1: Activation</text>\n<polyline fill=\"none\" points=\"154,-332.5 154,-378.5 \" stroke=\"#000000\"/>\n<text fill=\"#000000\" font-family=\"Times,serif\" font-size=\"14.00\" text-anchor=\"middle\" x=\"183\" y=\"-363.3\">input:</text>\n<polyline fill=\"none\" points=\"154,-355.5 212,-355.5 \" stroke=\"#000000\"/>\n<text fill=\"#000000\" font-family=\"Times,serif\" font-size=\"14.00\" text-anchor=\"middle\" x=\"183\" y=\"-340.3\">output:</text>\n<polyline fill=\"none\" points=\"212,-332.5 212,-378.5 \" stroke=\"#000000\"/>\n<text fill=\"#000000\" font-family=\"Times,serif\" font-size=\"14.00\" text-anchor=\"middle\" x=\"255.5\" y=\"-363.3\">(None, 512)</text>\n<polyline fill=\"none\" points=\"212,-355.5 299,-355.5 \" stroke=\"#000000\"/>\n<text fill=\"#000000\" font-family=\"Times,serif\" font-size=\"14.00\" text-anchor=\"middle\" x=\"255.5\" y=\"-340.3\">(None, 512)</text>\n</g>\n<!-- 140688769025752&#45;&gt;140688529119496 -->\n<g class=\"edge\" id=\"edge2\">\n<title>140688769025752-&gt;140688529119496</title>\n<path d=\"M149.5,-415.3799C149.5,-407.1745 149.5,-397.7679 149.5,-388.8786\" fill=\"none\" stroke=\"#000000\"/>\n<polygon fill=\"#000000\" points=\"153.0001,-388.784 149.5,-378.784 146.0001,-388.784 153.0001,-388.784\" stroke=\"#000000\"/>\n</g>\n<!-- 140688282607512 -->\n<g class=\"node\" id=\"node3\">\n<title>140688282607512</title>\n<polygon fill=\"none\" points=\"23.5,-249.5 23.5,-295.5 275.5,-295.5 275.5,-249.5 23.5,-249.5\" stroke=\"#000000\"/>\n<text fill=\"#000000\" font-family=\"Times,serif\" font-size=\"14.00\" text-anchor=\"middle\" x=\"77\" y=\"-268.8\">dense_2: Dense</text>\n<polyline fill=\"none\" points=\"130.5,-249.5 130.5,-295.5 \" stroke=\"#000000\"/>\n<text fill=\"#000000\" font-family=\"Times,serif\" font-size=\"14.00\" text-anchor=\"middle\" x=\"159.5\" y=\"-280.3\">input:</text>\n<polyline fill=\"none\" points=\"130.5,-272.5 188.5,-272.5 \" stroke=\"#000000\"/>\n<text fill=\"#000000\" font-family=\"Times,serif\" font-size=\"14.00\" text-anchor=\"middle\" x=\"159.5\" y=\"-257.3\">output:</text>\n<polyline fill=\"none\" points=\"188.5,-249.5 188.5,-295.5 \" stroke=\"#000000\"/>\n<text fill=\"#000000\" font-family=\"Times,serif\" font-size=\"14.00\" text-anchor=\"middle\" x=\"232\" y=\"-280.3\">(None, 512)</text>\n<polyline fill=\"none\" points=\"188.5,-272.5 275.5,-272.5 \" stroke=\"#000000\"/>\n<text fill=\"#000000\" font-family=\"Times,serif\" font-size=\"14.00\" text-anchor=\"middle\" x=\"232\" y=\"-257.3\">(None, 512)</text>\n</g>\n<!-- 140688529119496&#45;&gt;140688282607512 -->\n<g class=\"edge\" id=\"edge3\">\n<title>140688529119496-&gt;140688282607512</title>\n<path d=\"M149.5,-332.3799C149.5,-324.1745 149.5,-314.7679 149.5,-305.8786\" fill=\"none\" stroke=\"#000000\"/>\n<polygon fill=\"#000000\" points=\"153.0001,-305.784 149.5,-295.784 146.0001,-305.784 153.0001,-305.784\" stroke=\"#000000\"/>\n</g>\n<!-- 140688282607008 -->\n<g class=\"node\" id=\"node4\">\n<title>140688282607008</title>\n<polygon fill=\"none\" points=\"0,-166.5 0,-212.5 299,-212.5 299,-166.5 0,-166.5\" stroke=\"#000000\"/>\n<text fill=\"#000000\" font-family=\"Times,serif\" font-size=\"14.00\" text-anchor=\"middle\" x=\"77\" y=\"-185.8\">activation_2: Activation</text>\n<polyline fill=\"none\" points=\"154,-166.5 154,-212.5 \" stroke=\"#000000\"/>\n<text fill=\"#000000\" font-family=\"Times,serif\" font-size=\"14.00\" text-anchor=\"middle\" x=\"183\" y=\"-197.3\">input:</text>\n<polyline fill=\"none\" points=\"154,-189.5 212,-189.5 \" stroke=\"#000000\"/>\n<text fill=\"#000000\" font-family=\"Times,serif\" font-size=\"14.00\" text-anchor=\"middle\" x=\"183\" y=\"-174.3\">output:</text>\n<polyline fill=\"none\" points=\"212,-166.5 212,-212.5 \" stroke=\"#000000\"/>\n<text fill=\"#000000\" font-family=\"Times,serif\" font-size=\"14.00\" text-anchor=\"middle\" x=\"255.5\" y=\"-197.3\">(None, 512)</text>\n<polyline fill=\"none\" points=\"212,-189.5 299,-189.5 \" stroke=\"#000000\"/>\n<text fill=\"#000000\" font-family=\"Times,serif\" font-size=\"14.00\" text-anchor=\"middle\" x=\"255.5\" y=\"-174.3\">(None, 512)</text>\n</g>\n<!-- 140688282607512&#45;&gt;140688282607008 -->\n<g class=\"edge\" id=\"edge4\">\n<title>140688282607512-&gt;140688282607008</title>\n<path d=\"M149.5,-249.3799C149.5,-241.1745 149.5,-231.7679 149.5,-222.8786\" fill=\"none\" stroke=\"#000000\"/>\n<polygon fill=\"#000000\" points=\"153.0001,-222.784 149.5,-212.784 146.0001,-222.784 153.0001,-222.784\" stroke=\"#000000\"/>\n</g>\n<!-- 140688273800552 -->\n<g class=\"node\" id=\"node5\">\n<title>140688273800552</title>\n<polygon fill=\"none\" points=\"23.5,-83.5 23.5,-129.5 275.5,-129.5 275.5,-83.5 23.5,-83.5\" stroke=\"#000000\"/>\n<text fill=\"#000000\" font-family=\"Times,serif\" font-size=\"14.00\" text-anchor=\"middle\" x=\"77\" y=\"-102.8\">dense_3: Dense</text>\n<polyline fill=\"none\" points=\"130.5,-83.5 130.5,-129.5 \" stroke=\"#000000\"/>\n<text fill=\"#000000\" font-family=\"Times,serif\" font-size=\"14.00\" text-anchor=\"middle\" x=\"159.5\" y=\"-114.3\">input:</text>\n<polyline fill=\"none\" points=\"130.5,-106.5 188.5,-106.5 \" stroke=\"#000000\"/>\n<text fill=\"#000000\" font-family=\"Times,serif\" font-size=\"14.00\" text-anchor=\"middle\" x=\"159.5\" y=\"-91.3\">output:</text>\n<polyline fill=\"none\" points=\"188.5,-83.5 188.5,-129.5 \" stroke=\"#000000\"/>\n<text fill=\"#000000\" font-family=\"Times,serif\" font-size=\"14.00\" text-anchor=\"middle\" x=\"232\" y=\"-114.3\">(None, 512)</text>\n<polyline fill=\"none\" points=\"188.5,-106.5 275.5,-106.5 \" stroke=\"#000000\"/>\n<text fill=\"#000000\" font-family=\"Times,serif\" font-size=\"14.00\" text-anchor=\"middle\" x=\"232\" y=\"-91.3\">(None, 10)</text>\n</g>\n<!-- 140688282607008&#45;&gt;140688273800552 -->\n<g class=\"edge\" id=\"edge5\">\n<title>140688282607008-&gt;140688273800552</title>\n<path d=\"M149.5,-166.3799C149.5,-158.1745 149.5,-148.7679 149.5,-139.8786\" fill=\"none\" stroke=\"#000000\"/>\n<polygon fill=\"#000000\" points=\"153.0001,-139.784 149.5,-129.784 146.0001,-139.784 153.0001,-139.784\" stroke=\"#000000\"/>\n</g>\n<!-- 140688273800496 -->\n<g class=\"node\" id=\"node6\">\n<title>140688273800496</title>\n<polygon fill=\"none\" points=\"3.5,-.5 3.5,-46.5 295.5,-46.5 295.5,-.5 3.5,-.5\" stroke=\"#000000\"/>\n<text fill=\"#000000\" font-family=\"Times,serif\" font-size=\"14.00\" text-anchor=\"middle\" x=\"80.5\" y=\"-19.8\">activation_3: Activation</text>\n<polyline fill=\"none\" points=\"157.5,-.5 157.5,-46.5 \" stroke=\"#000000\"/>\n<text fill=\"#000000\" font-family=\"Times,serif\" font-size=\"14.00\" text-anchor=\"middle\" x=\"186.5\" y=\"-31.3\">input:</text>\n<polyline fill=\"none\" points=\"157.5,-23.5 215.5,-23.5 \" stroke=\"#000000\"/>\n<text fill=\"#000000\" font-family=\"Times,serif\" font-size=\"14.00\" text-anchor=\"middle\" x=\"186.5\" y=\"-8.3\">output:</text>\n<polyline fill=\"none\" points=\"215.5,-.5 215.5,-46.5 \" stroke=\"#000000\"/>\n<text fill=\"#000000\" font-family=\"Times,serif\" font-size=\"14.00\" text-anchor=\"middle\" x=\"255.5\" y=\"-31.3\">(None, 10)</text>\n<polyline fill=\"none\" points=\"215.5,-23.5 295.5,-23.5 \" stroke=\"#000000\"/>\n<text fill=\"#000000\" font-family=\"Times,serif\" font-size=\"14.00\" text-anchor=\"middle\" x=\"255.5\" y=\"-8.3\">(None, 10)</text>\n</g>\n<!-- 140688273800552&#45;&gt;140688273800496 -->\n<g class=\"edge\" id=\"edge6\">\n<title>140688273800552-&gt;140688273800496</title>\n<path d=\"M149.5,-83.3799C149.5,-75.1745 149.5,-65.7679 149.5,-56.8786\" fill=\"none\" stroke=\"#000000\"/>\n<polygon fill=\"#000000\" points=\"153.0001,-56.784 149.5,-46.784 146.0001,-56.784 153.0001,-56.784\" stroke=\"#000000\"/>\n</g>\n<!-- 140688282606560 -->\n<g class=\"node\" id=\"node7\">\n<title>140688282606560</title>\n<polygon fill=\"none\" points=\"85,-498.5 85,-534.5 214,-534.5 214,-498.5 85,-498.5\" stroke=\"#000000\"/>\n<text fill=\"#000000\" font-family=\"Times,serif\" font-size=\"14.00\" text-anchor=\"middle\" x=\"149.5\" y=\"-512.8\">140688282606560</text>\n</g>\n<!-- 140688282606560&#45;&gt;140688769025752 -->\n<g class=\"edge\" id=\"edge1\">\n<title>140688282606560-&gt;140688769025752</title>\n<path d=\"M149.5,-498.4092C149.5,-490.4308 149.5,-480.795 149.5,-471.606\" fill=\"none\" stroke=\"#000000\"/>\n<polygon fill=\"#000000\" points=\"153.0001,-471.5333 149.5,-461.5333 146.0001,-471.5334 153.0001,-471.5333\" stroke=\"#000000\"/>\n</g>\n</g>\n</svg>"
          },
          "metadata": {
            "tags": []
          },
          "execution_count": 13
        }
      ]
    },
    {
      "metadata": {
        "id": "wQQaDA0RERcP",
        "colab_type": "code",
        "colab": {}
      },
      "cell_type": "code",
      "source": [
        "#note -- keras.utils.visualize_util renamed to keras.utils.vis_utils\n",
        "\n",
        "#credits goes to - jfsantos\n",
        "#this notebook is mainly for tutorial purpose "
      ],
      "execution_count": 0,
      "outputs": []
    },
    {
      "metadata": {
        "id": "-NHcWh65Exzl",
        "colab_type": "code",
        "colab": {}
      },
      "cell_type": "code",
      "source": [
        ""
      ],
      "execution_count": 0,
      "outputs": []
    },
    {
      "metadata": {
        "id": "3CgF_eUSEU3q",
        "colab_type": "code",
        "colab": {}
      },
      "cell_type": "code",
      "source": [
        ""
      ],
      "execution_count": 0,
      "outputs": []
    },
    {
      "metadata": {
        "id": "rIViHEVnEM_L",
        "colab_type": "code",
        "colab": {}
      },
      "cell_type": "code",
      "source": [
        ""
      ],
      "execution_count": 0,
      "outputs": []
    },
    {
      "metadata": {
        "id": "6pvhHQK0Cp8J",
        "colab_type": "code",
        "colab": {}
      },
      "cell_type": "code",
      "source": [
        ""
      ],
      "execution_count": 0,
      "outputs": []
    },
    {
      "metadata": {
        "id": "5YgYpxpFCYKq",
        "colab_type": "code",
        "colab": {}
      },
      "cell_type": "code",
      "source": [
        ""
      ],
      "execution_count": 0,
      "outputs": []
    }
  ]
}