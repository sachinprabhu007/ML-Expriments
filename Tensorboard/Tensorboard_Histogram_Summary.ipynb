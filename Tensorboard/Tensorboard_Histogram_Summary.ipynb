{
  "nbformat": 4,
  "nbformat_minor": 0,
  "metadata": {
    "colab": {
      "name": "Tensorboard_Histogram_Summary.ipynb",
      "version": "0.3.2",
      "provenance": [],
      "include_colab_link": true
    },
    "kernelspec": {
      "name": "python3",
      "display_name": "Python 3"
    }
  },
  "cells": [
    {
      "cell_type": "markdown",
      "metadata": {
        "id": "view-in-github",
        "colab_type": "text"
      },
      "source": [
        "<a href=\"https://colab.research.google.com/github/sachinprabhu007/ML-Expriments/blob/master/Tensorboard_Histogram_Summary.ipynb\" target=\"_parent\"><img src=\"https://colab.research.google.com/assets/colab-badge.svg\" alt=\"Open In Colab\"/></a>"
      ]
    },
    {
      "metadata": {
        "id": "GBJO477jpTub",
        "colab_type": "code",
        "colab": {}
      },
      "cell_type": "code",
      "source": [
        "# randomly pick 100 values from a normal distributions N(0,1) and plot them one after another\n",
        "\n",
        "import tensorflow as tf\n",
        "\n",
        "tf.reset_default_graph()\n",
        "\n",
        "s_scalar = tf.get_variable(name = 's_scalar',\n",
        "                           shape = [],\n",
        "                           initializer = tf.truncated_normal_initializer(\n",
        "                           mean = 0, stddev=1))\n",
        "y_matrix = tf.get_variable(name = 'y_matrix',\n",
        "                           shape = [40,50],\n",
        "                           initializer = tf.truncated_normal_initializer(\n",
        "                           mean = 0, stddev=1))\n",
        "\n",
        "# A scaler summary for scalar tensor\n",
        "first_summary = tf.summary.scalar(name='First_summary',tensor=s_scalar)\n",
        "\n",
        "# A histogram summary for non-scalar tensor 2D or 3D Matrix\n",
        "histogram_summary = tf.summary.histogram('histogram_summary',y_matrix)\n",
        "\n",
        "\n",
        "init = tf.global_variables_initializer()\n",
        "\n",
        "with tf.Session() as sess:\n",
        "  writer = tf.summary.FileWriter('./logs',sess.graph)\n",
        "  \n",
        "  for i in range(100):\n",
        "    sess.run(init)\n",
        "    summary1, summary2 = sess.run([first_summary, histogram_summary])\n",
        "    #summary = sess.run(first_summary)\n",
        "    writer.add_summary(summary1,i)\n",
        "    writer.add_summary(summary2,i)\n"
      ],
      "execution_count": 0,
      "outputs": []
    },
    {
      "metadata": {
        "id": "T0AzuqhGqy2R",
        "colab_type": "code",
        "colab": {}
      },
      "cell_type": "code",
      "source": [
        ""
      ],
      "execution_count": 0,
      "outputs": []
    },
    {
      "metadata": {
        "id": "dK_gELyEqdfO",
        "colab_type": "code",
        "colab": {}
      },
      "cell_type": "code",
      "source": [
        ""
      ],
      "execution_count": 0,
      "outputs": []
    },
    {
      "metadata": {
        "id": "mfFIB29wpaMG",
        "colab_type": "code",
        "colab": {}
      },
      "cell_type": "code",
      "source": [
        "LOG_DIR = './logs'\n",
        "get_ipython().system_raw(\n",
        "    'tensorboard --logdir {} --host 0.0.0.0 --port 6006 &'\n",
        "    .format(LOG_DIR)\n",
        ")"
      ],
      "execution_count": 0,
      "outputs": []
    },
    {
      "metadata": {
        "id": "VUGdDvDkpctA",
        "colab_type": "code",
        "colab": {
          "base_uri": "https://localhost:8080/",
          "height": 250
        },
        "outputId": "5a8fea5a-eeb3-4165-a5bb-32888683500b"
      },
      "cell_type": "code",
      "source": [
        "!pip install tensorboardcolab\n",
        "from tensorboardcolab import TensorBoardColab, TensorBoardColabCallback\n",
        "\n",
        "tbc=TensorBoardColab()"
      ],
      "execution_count": 5,
      "outputs": [
        {
          "output_type": "stream",
          "text": [
            "Collecting tensorboardcolab\n",
            "  Downloading https://files.pythonhosted.org/packages/73/3d/eaf745e162e471c5bb2737a407d8626fb8684a88cf085045456aeb841d3c/tensorboardcolab-0.0.19.tar.gz\n",
            "Building wheels for collected packages: tensorboardcolab\n",
            "  Running setup.py bdist_wheel for tensorboardcolab ... \u001b[?25l-\b \bdone\n",
            "\u001b[?25h  Stored in directory: /root/.cache/pip/wheels/ab/74/02/cda602d1dc28b2f12eab313c49b9bfa14d6371326bc2590e06\n",
            "Successfully built tensorboardcolab\n",
            "Installing collected packages: tensorboardcolab\n",
            "Successfully installed tensorboardcolab-0.0.19\n"
          ],
          "name": "stdout"
        },
        {
          "output_type": "stream",
          "text": [
            "Using TensorFlow backend.\n"
          ],
          "name": "stderr"
        },
        {
          "output_type": "stream",
          "text": [
            "Wait for 8 seconds...\n",
            "TensorBoard link:\n",
            "https://42345752.ngrok.io\n"
          ],
          "name": "stdout"
        }
      ]
    }
  ]
}
