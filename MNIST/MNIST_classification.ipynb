{
  "nbformat": 4,
  "nbformat_minor": 0,
  "metadata": {
    "colab": {
      "name": "MNIST classification.ipynb",
      "version": "0.3.2",
      "provenance": [],
      "collapsed_sections": [],
      "include_colab_link": true
    },
    "kernelspec": {
      "name": "python3",
      "display_name": "Python 3"
    }
  },
  "cells": [
    {
      "cell_type": "markdown",
      "metadata": {
        "id": "view-in-github",
        "colab_type": "text"
      },
      "source": [
        "<a href=\"https://colab.research.google.com/github/sachinprabhu007/ML-Expriments/blob/master/MNIST_classification.ipynb\" target=\"_parent\"><img src=\"https://colab.research.google.com/assets/colab-badge.svg\" alt=\"Open In Colab\"/></a>"
      ]
    },
    {
      "metadata": {
        "id": "7gvfRGRqbU7T",
        "colab_type": "code",
        "colab": {}
      },
      "cell_type": "code",
      "source": [
        "import cv2 \n",
        "import matplotlib.pyplot as plt\n",
        "import numpy as np\n",
        "import tensorflow as tf\n"
      ],
      "execution_count": 0,
      "outputs": []
    },
    {
      "metadata": {
        "id": "zATWijmfbjn3",
        "colab_type": "code",
        "colab": {
          "base_uri": "https://localhost:8080/",
          "height": 532
        },
        "outputId": "ef46f867-f91f-42b2-dd1b-fa3c4d6e508d"
      },
      "cell_type": "code",
      "source": [
        "from tensorflow.examples.tutorials.mnist import input_data\n",
        "mnist_data = input_data.read_data_sets('./data',one_hot=True)\n"
      ],
      "execution_count": 5,
      "outputs": [
        {
          "output_type": "stream",
          "text": [
            "WARNING:tensorflow:From <ipython-input-5-53603bc6eba5>:2: read_data_sets (from tensorflow.contrib.learn.python.learn.datasets.mnist) is deprecated and will be removed in a future version.\n",
            "Instructions for updating:\n",
            "Please use alternatives such as official/mnist/dataset.py from tensorflow/models.\n",
            "WARNING:tensorflow:From /usr/local/lib/python3.6/dist-packages/tensorflow/contrib/learn/python/learn/datasets/mnist.py:260: maybe_download (from tensorflow.contrib.learn.python.learn.datasets.base) is deprecated and will be removed in a future version.\n",
            "Instructions for updating:\n",
            "Please write your own downloading logic.\n",
            "WARNING:tensorflow:From /usr/local/lib/python3.6/dist-packages/tensorflow/contrib/learn/python/learn/datasets/base.py:252: _internal_retry.<locals>.wrap.<locals>.wrapped_fn (from tensorflow.contrib.learn.python.learn.datasets.base) is deprecated and will be removed in a future version.\n",
            "Instructions for updating:\n",
            "Please use urllib or similar directly.\n",
            "Successfully downloaded train-images-idx3-ubyte.gz 9912422 bytes.\n",
            "WARNING:tensorflow:From /usr/local/lib/python3.6/dist-packages/tensorflow/contrib/learn/python/learn/datasets/mnist.py:262: extract_images (from tensorflow.contrib.learn.python.learn.datasets.mnist) is deprecated and will be removed in a future version.\n",
            "Instructions for updating:\n",
            "Please use tf.data to implement this functionality.\n",
            "Extracting ./data/train-images-idx3-ubyte.gz\n",
            "Successfully downloaded train-labels-idx1-ubyte.gz 28881 bytes.\n",
            "WARNING:tensorflow:From /usr/local/lib/python3.6/dist-packages/tensorflow/contrib/learn/python/learn/datasets/mnist.py:267: extract_labels (from tensorflow.contrib.learn.python.learn.datasets.mnist) is deprecated and will be removed in a future version.\n",
            "Instructions for updating:\n",
            "Please use tf.data to implement this functionality.\n",
            "Extracting ./data/train-labels-idx1-ubyte.gz\n",
            "WARNING:tensorflow:From /usr/local/lib/python3.6/dist-packages/tensorflow/contrib/learn/python/learn/datasets/mnist.py:110: dense_to_one_hot (from tensorflow.contrib.learn.python.learn.datasets.mnist) is deprecated and will be removed in a future version.\n",
            "Instructions for updating:\n",
            "Please use tf.one_hot on tensors.\n",
            "Successfully downloaded t10k-images-idx3-ubyte.gz 1648877 bytes.\n",
            "Extracting ./data/t10k-images-idx3-ubyte.gz\n",
            "Successfully downloaded t10k-labels-idx1-ubyte.gz 4542 bytes.\n",
            "Extracting ./data/t10k-labels-idx1-ubyte.gz\n",
            "WARNING:tensorflow:From /usr/local/lib/python3.6/dist-packages/tensorflow/contrib/learn/python/learn/datasets/mnist.py:290: DataSet.__init__ (from tensorflow.contrib.learn.python.learn.datasets.mnist) is deprecated and will be removed in a future version.\n",
            "Instructions for updating:\n",
            "Please use alternatives such as official/mnist/dataset.py from tensorflow/models.\n"
          ],
          "name": "stdout"
        }
      ]
    },
    {
      "metadata": {
        "id": "c9EmYAIzb15s",
        "colab_type": "code",
        "colab": {}
      },
      "cell_type": "code",
      "source": [
        ""
      ],
      "execution_count": 0,
      "outputs": []
    },
    {
      "metadata": {
        "id": "An2FmCJ_bweo",
        "colab_type": "code",
        "colab": {
          "base_uri": "https://localhost:8080/",
          "height": 34
        },
        "outputId": "047197e1-3ba4-41e0-b220-3d0754ae9ae6"
      },
      "cell_type": "code",
      "source": [
        "num_training = mnist_data.train.num_examples\n",
        "num_testing = mnist_data.test.num_examples\n",
        "num_validation = mnist_data.validation.num_examples\n",
        "\n",
        "print('MNIST datasize: training samples : %d, testing samples : %d, vaidation samples: %d' %(num_training,num_testing,num_validation))\n"
      ],
      "execution_count": 9,
      "outputs": [
        {
          "output_type": "stream",
          "text": [
            "MNIST datasize: training samples : 55000, testing samples : 10000, vaidation samples: 5000\n"
          ],
          "name": "stdout"
        }
      ]
    },
    {
      "metadata": {
        "id": "aQde-ue9dcmE",
        "colab_type": "code",
        "colab": {}
      },
      "cell_type": "code",
      "source": [
        "#network parameters of neural network\n",
        "\n",
        "n_input = 784          #input image of size 28*28\n",
        "n_hidden_1 = 512       #first hidden layer\n",
        "n_hidden_2 = 256       #second hidden layer\n",
        "n_hidden_3 = 128       #third hidden layer\n",
        "n_output = 10          #output layer having (0-9) digits"
      ],
      "execution_count": 0,
      "outputs": []
    },
    {
      "metadata": {
        "id": "rxsx2pKoey3I",
        "colab_type": "code",
        "colab": {}
      },
      "cell_type": "code",
      "source": [
        ""
      ],
      "execution_count": 0,
      "outputs": []
    },
    {
      "metadata": {
        "id": "Adj5n8BIdJd1",
        "colab_type": "code",
        "colab": {}
      },
      "cell_type": "code",
      "source": [
        "learning_rate = 1e-4\n",
        "epochs = 3000\n",
        "batch_size = 128\n",
        "keep_prob = tf.placeholder(tf.float32)"
      ],
      "execution_count": 0,
      "outputs": []
    },
    {
      "metadata": {
        "id": "blZBZLfve0Gs",
        "colab_type": "code",
        "colab": {}
      },
      "cell_type": "code",
      "source": [
        "#building a tensorflow graph\n",
        "\n",
        "X = tf.placeholder(tf.float32, [None, n_input])\n",
        "Y = tf.placeholder(tf.float32, [None, n_output])\n",
        "\n",
        "#weight definition\n",
        "\n",
        "nn_weight = {'W1': tf.Variable(tf.truncated_normal([n_input,n_hidden_1], stddev=0.1)),\n",
        "             'W2': tf.Variable(tf.truncated_normal([n_hidden_1,n_hidden_2], stddev=0.1)),\n",
        "             'W3': tf.Variable(tf.truncated_normal([n_hidden_2,n_hidden_3], stddev=0.1)),\n",
        "             'Wout': tf.Variable(tf.truncated_normal([n_hidden_3,n_output], stddev=0.1)),\n",
        "            }\n",
        "\n",
        "nn_bias = {'B1': tf.Variable(tf.truncated_normal([n_hidden_1])),\n",
        "           'B2': tf.Variable(tf.truncated_normal([n_hidden_2])),\n",
        "           'B3': tf.Variable(tf.truncated_normal([n_hidden_3])),\n",
        "           'B4': tf.Variable(tf.truncated_normal([n_output])),\n",
        "          }\n",
        "            "
      ],
      "execution_count": 0,
      "outputs": []
    },
    {
      "metadata": {
        "id": "wEh6FkPdgx6w",
        "colab_type": "code",
        "colab": {}
      },
      "cell_type": "code",
      "source": [
        "#create a NN model\n",
        "\n",
        "nn_layer_1 = tf.add(tf.matmul(X, nn_weight[\"W1\"]), nn_bias[\"B1\"])\n",
        "nn_layer_2 = tf.add(tf.matmul(nn_layer_1, nn_weight[\"W2\"]), nn_bias[\"B2\"])\n",
        "nn_layer_3 = tf.add(tf.matmul(nn_layer_2, nn_weight[\"W3\"]), nn_bias[\"B3\"])\n",
        "layer_drop = tf.nn.dropout(nn_layer_3,keep_prob)\n",
        "output_layer = tf.add(tf.matmul(layer_drop, nn_weight[\"Wout\"]), nn_bias[\"B4\"])\n",
        "\n",
        "\n"
      ],
      "execution_count": 0,
      "outputs": []
    },
    {
      "metadata": {
        "id": "EszNUArjheaA",
        "colab_type": "code",
        "colab": {}
      },
      "cell_type": "code",
      "source": [
        "#Define the loss\n",
        "\n",
        "computed_loss = tf.reduce_mean(tf.nn.softmax_cross_entropy_with_logits_v2(logits = output_layer, labels = Y))\n",
        "\n",
        "#Define the optimizer\n",
        "optimizer = tf.train.GradientDescentOptimizer(learning_rate = learning_rate).minimize(computed_loss)\n",
        "\n",
        "\n",
        "#Define the prediction\n",
        "prediction_out = tf.equal(tf.argmax(output_layer,1), tf.argmax(Y,1))\n",
        "\n",
        "#Define the accuracy of the model\n",
        "\n",
        "nn_accuracy = tf.reduce_mean(tf.cast(prediction_out, tf.float32))\n",
        "\n",
        "#Initialize all the variables\n",
        "\n",
        "init = tf.global_variables_initializer()\n",
        "\n",
        "saver = tf.train.Saver()"
      ],
      "execution_count": 0,
      "outputs": []
    },
    {
      "metadata": {
        "id": "VSq-rZmwmDqN",
        "colab_type": "code",
        "colab": {}
      },
      "cell_type": "code",
      "source": [
        ""
      ],
      "execution_count": 0,
      "outputs": []
    },
    {
      "metadata": {
        "id": "F5Jt9snqiQYt",
        "colab_type": "code",
        "colab": {
          "base_uri": "https://localhost:8080/",
          "height": 563
        },
        "outputId": "d9fd98b8-3b2d-44e4-e93e-eaba53db25cd"
      },
      "cell_type": "code",
      "source": [
        "#Executing the computational graph\n",
        "\n",
        "with tf.Session() as sess:\n",
        "  sess.run(init)\n",
        "  for i in range(epochs):\n",
        "    \n",
        "    mini_batch_x, mini_batch_y = mnist_data.train.next_batch(batch_size)\n",
        "    \n",
        "    #print(mini_batch_x[0:1,:].shape)\n",
        "    mini_batch_val_x, mini_batch_val_y = mnist_data.validation.next_batch(batch_size)\n",
        "    \n",
        "    sess.run(optimizer, feed_dict = {X: mini_batch_x, Y: mini_batch_y, keep_prob:1})\n",
        "    \n",
        "    if i%100 == 0:\n",
        "      mini_batch_loss, mini_batch_accuracy = sess.run([computed_loss, nn_accuracy],\n",
        "                                                     \n",
        "                                                     feed_dict = {X: mini_batch_x, Y: mini_batch_y, keep_prob:1})\n",
        "     \n",
        "      mini_batch_val_loss, mini_batch_val_accuracy = sess.run([computed_loss, nn_accuracy],\n",
        "                                                     \n",
        "                                                     feed_dict = {X: mini_batch_val_x, Y: mini_batch_val_y, keep_prob:1})\n",
        "  \n",
        "      print('Iterations : {0}, Train_loss = {1}, Train_accuracy {2}, val_loss  {3}, val_accuracy {4}'\n",
        "            .format(i, mini_batch_loss,mini_batch_accuracy, mini_batch_val_loss,mini_batch_val_accuracy)\n",
        "            )\n",
        "    \n",
        "  print('optimization finished')\n",
        "  test_accuracy = sess.run(nn_accuracy, feed_dict = {X: mnist_data.test.images, Y: mnist_data.test.labels, keep_prob:1.0})\n",
        "  \n",
        "  print('testing accuracy is {0}'.format(test_accuracy))\n",
        "  \n",
        "  saver_path = saver.save(sess,'./model/my_model.ckpt')\n",
        "     "
      ],
      "execution_count": 22,
      "outputs": [
        {
          "output_type": "stream",
          "text": [
            "Iterations : 0, Train_loss = 5.086050987243652, Train_accuracy 0.125, val_loss  5.109346389770508, val_accuracy 0.0703125\n",
            "Iterations : 100, Train_loss = 3.099024534225464, Train_accuracy 0.1484375, val_loss  3.504246950149536, val_accuracy 0.1171875\n",
            "Iterations : 200, Train_loss = 2.672011375427246, Train_accuracy 0.1953125, val_loss  2.666717529296875, val_accuracy 0.140625\n",
            "Iterations : 300, Train_loss = 2.257397174835205, Train_accuracy 0.265625, val_loss  2.323563814163208, val_accuracy 0.2734375\n",
            "Iterations : 400, Train_loss = 2.194329261779785, Train_accuracy 0.3125, val_loss  2.2007980346679688, val_accuracy 0.28125\n",
            "Iterations : 500, Train_loss = 2.0997207164764404, Train_accuracy 0.3359375, val_loss  2.1702070236206055, val_accuracy 0.359375\n",
            "Iterations : 600, Train_loss = 1.8370764255523682, Train_accuracy 0.4296875, val_loss  2.0449390411376953, val_accuracy 0.3046875\n",
            "Iterations : 700, Train_loss = 1.6271510124206543, Train_accuracy 0.390625, val_loss  1.5541030168533325, val_accuracy 0.515625\n",
            "Iterations : 800, Train_loss = 1.6113970279693604, Train_accuracy 0.46875, val_loss  1.65358567237854, val_accuracy 0.4296875\n",
            "Iterations : 900, Train_loss = 1.5535401105880737, Train_accuracy 0.5078125, val_loss  1.5027052164077759, val_accuracy 0.53125\n",
            "Iterations : 1000, Train_loss = 1.6665594577789307, Train_accuracy 0.4453125, val_loss  1.378972053527832, val_accuracy 0.5\n",
            "Iterations : 1100, Train_loss = 1.3500291109085083, Train_accuracy 0.5703125, val_loss  1.3969509601593018, val_accuracy 0.5078125\n",
            "Iterations : 1200, Train_loss = 1.2467418909072876, Train_accuracy 0.6015625, val_loss  1.2968058586120605, val_accuracy 0.578125\n",
            "Iterations : 1300, Train_loss = 1.442818522453308, Train_accuracy 0.515625, val_loss  1.284102439880371, val_accuracy 0.5859375\n",
            "Iterations : 1400, Train_loss = 1.1360069513320923, Train_accuracy 0.6484375, val_loss  1.1581649780273438, val_accuracy 0.6328125\n",
            "Iterations : 1500, Train_loss = 1.2098426818847656, Train_accuracy 0.5859375, val_loss  1.2164306640625, val_accuracy 0.5703125\n",
            "Iterations : 1600, Train_loss = 1.0925127267837524, Train_accuracy 0.671875, val_loss  1.0909712314605713, val_accuracy 0.6015625\n",
            "Iterations : 1700, Train_loss = 1.1139123439788818, Train_accuracy 0.671875, val_loss  1.1442991495132446, val_accuracy 0.5859375\n",
            "Iterations : 1800, Train_loss = 1.0427453517913818, Train_accuracy 0.6875, val_loss  1.0750315189361572, val_accuracy 0.6640625\n",
            "Iterations : 1900, Train_loss = 0.9669314622879028, Train_accuracy 0.6796875, val_loss  1.132857322692871, val_accuracy 0.6171875\n",
            "Iterations : 2000, Train_loss = 1.1677088737487793, Train_accuracy 0.625, val_loss  0.9384191036224365, val_accuracy 0.671875\n",
            "Iterations : 2100, Train_loss = 1.008358120918274, Train_accuracy 0.671875, val_loss  1.208484411239624, val_accuracy 0.625\n",
            "Iterations : 2200, Train_loss = 1.0339248180389404, Train_accuracy 0.671875, val_loss  0.9639830589294434, val_accuracy 0.7109375\n",
            "Iterations : 2300, Train_loss = 0.9523391723632812, Train_accuracy 0.6875, val_loss  0.7962561845779419, val_accuracy 0.78125\n",
            "Iterations : 2400, Train_loss = 0.8403607606887817, Train_accuracy 0.7265625, val_loss  0.7031249403953552, val_accuracy 0.7421875\n",
            "Iterations : 2500, Train_loss = 0.7788219451904297, Train_accuracy 0.7265625, val_loss  0.9416180849075317, val_accuracy 0.734375\n",
            "Iterations : 2600, Train_loss = 0.8263204097747803, Train_accuracy 0.734375, val_loss  0.964686930179596, val_accuracy 0.71875\n",
            "Iterations : 2700, Train_loss = 0.8625410795211792, Train_accuracy 0.7734375, val_loss  0.9097506999969482, val_accuracy 0.7109375\n",
            "Iterations : 2800, Train_loss = 0.7998308539390564, Train_accuracy 0.78125, val_loss  0.9920945763587952, val_accuracy 0.6640625\n",
            "Iterations : 2900, Train_loss = 0.8998898267745972, Train_accuracy 0.71875, val_loss  0.8477044105529785, val_accuracy 0.71875\n",
            "optimization finished\n",
            "testing accuracy is 0.7621999979019165\n"
          ],
          "name": "stdout"
        }
      ]
    },
    {
      "metadata": {
        "id": "7cnAqNMklc66",
        "colab_type": "code",
        "colab": {
          "base_uri": "https://localhost:8080/",
          "height": 380
        },
        "outputId": "8d7356dd-8104-46fe-f4b7-9bb954d4db52"
      },
      "cell_type": "code",
      "source": [
        "# upload the test image from outside\n",
        "\n",
        "img = cv2.imread('example3.png')\n",
        "gray_image = cv2.cvtColor(img, cv2.COLOR_BGR2GRAY)\n",
        "\n",
        "rescaled_image = cv2.resize(gray_image, (28,28))\n",
        "plt.imshow(rescaled_image, cmap = 'gray')\n",
        "plt.show()\n",
        "  \n",
        "rescaled_image.shape\n",
        "#test_image = rescaled_image.flatten()\n",
        "\n",
        "dum = rescaled_image.reshape(1,-1)/255\n",
        "dum.shape\n",
        "\n",
        "with tf.Session() as sess:\n",
        "  saver.restore(sess,'./model/my_model.ckpt')\n",
        "  Z = output_layer.eval(feed_dict = {X:dum, keep_prob:1.0})\n",
        "  y_pred = np.argmax(Z, axis = 1)\n",
        "  print('Prediction for test image is {0}'.format(y_pred))\n",
        "  \n",
        "  \n",
        "  # fetch example.png from https://github.com/tensorflow/models/tree/master/official/mnist, upload the image to runtime from upload icon on left of colab and then run the cell\n",
        "  "
      ],
      "execution_count": 36,
      "outputs": [
        {
          "output_type": "display_data",
          "data": {
            "image/png": "[encoded data removed]",
            "text/plain": [
              "<matplotlib.figure.Figure at 0x7fb40194b7f0>"
            ]
          },
          "metadata": {
            "tags": []
          }
        },
        {
          "output_type": "stream",
          "text": [
            "INFO:tensorflow:Restoring parameters from ./model/my_model.ckpt\n",
            "Prediction for test image is [2]\n"
          ],
          "name": "stdout"
        }
      ]
    },
    {
      "metadata": {
        "id": "ArOJD_3mrnR6",
        "colab_type": "code",
        "colab": {}
      },
      "cell_type": "code",
      "source": [
        ""
      ],
      "execution_count": 0,
      "outputs": []
    },
    {
      "metadata": {
        "id": "VoggeLtUrQ2d",
        "colab_type": "code",
        "colab": {}
      },
      "cell_type": "code",
      "source": [
        ""
      ],
      "execution_count": 0,
      "outputs": []
    },
    {
      "metadata": {
        "id": "E_DNLilZoYDy",
        "colab_type": "code",
        "colab": {}
      },
      "cell_type": "code",
      "source": [
        ""
      ],
      "execution_count": 0,
      "outputs": []
    },
    {
      "metadata": {
        "id": "S-6FTejoirqE",
        "colab_type": "code",
        "colab": {}
      },
      "cell_type": "code",
      "source": [
        ""
      ],
      "execution_count": 0,
      "outputs": []
    },
    {
      "metadata": {
        "id": "LCUaUNRUiqL7",
        "colab_type": "code",
        "colab": {}
      },
      "cell_type": "code",
      "source": [
        ""
      ],
      "execution_count": 0,
      "outputs": []
    },
    {
      "metadata": {
        "id": "Uxb8lGiwgo7-",
        "colab_type": "code",
        "colab": {}
      },
      "cell_type": "code",
      "source": [
        ""
      ],
      "execution_count": 0,
      "outputs": []
    },
    {
      "metadata": {
        "id": "LLlOvZWXdEwp",
        "colab_type": "code",
        "colab": {}
      },
      "cell_type": "code",
      "source": [
        ""
      ],
      "execution_count": 0,
      "outputs": []
    },
    {
      "metadata": {
        "id": "UNL8T2DIbZWc",
        "colab_type": "code",
        "colab": {}
      },
      "cell_type": "code",
      "source": [
        ""
      ],
      "execution_count": 0,
      "outputs": []
    }
  ]
}
