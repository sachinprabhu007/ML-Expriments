{
  "nbformat": 4,
  "nbformat_minor": 0,
  "metadata": {
    "colab": {
      "name": "chap3 - forward propgation.ipynb",
      "version": "0.3.2",
      "provenance": [],
      "include_colab_link": true
    },
    "kernelspec": {
      "name": "python3",
      "display_name": "Python 3"
    }
  },
  "cells": [
    {
      "cell_type": "markdown",
      "metadata": {
        "id": "view-in-github",
        "colab_type": "text"
      },
      "source": [
        "<a href=\"https://colab.research.google.com/github/sachinprabhu007/ML-Expriments/blob/master/chap3_forward_propgation.ipynb\" target=\"_parent\"><img src=\"https://colab.research.google.com/assets/colab-badge.svg\" alt=\"Open In Colab\"/></a>"
      ]
    },
    {
      "metadata": {
        "id": "J2B3_PYdlAQZ",
        "colab_type": "code",
        "outputId": "da56c8a2-3280-463a-a0f3-8aa5d92c7afc",
        "colab": {
          "base_uri": "https://localhost:8080/",
          "height": 34
        }
      },
      "cell_type": "code",
      "source": [
        "# simple neural net\n",
        "\n",
        "weight = 0.1\n",
        "def neural_network(input,weight):\n",
        "  prediction = input * weight\n",
        "  return prediction\n",
        "\n",
        "number_of_toes = [8.5,9.5,10,9]\n",
        "input = number_of_toes[0]\n",
        "pred = neural_network(input,weight)\n",
        "print(pred)"
      ],
      "execution_count": 0,
      "outputs": [
        {
          "output_type": "stream",
          "text": [
            "0.8500000000000001\n"
          ],
          "name": "stdout"
        }
      ]
    },
    {
      "metadata": {
        "id": "fSQXUsKllrGQ",
        "colab_type": "code",
        "outputId": "9b927f86-098b-4df1-a4da-4d6bb991117e",
        "colab": {
          "base_uri": "https://localhost:8080/",
          "height": 34
        }
      },
      "cell_type": "code",
      "source": [
        "#make prediction with multiple inputs\n",
        "\n",
        "def w_sum(a,b):\n",
        "  assert(len(a) == len(b))\n",
        "  output = 0\n",
        "  for i in range(len(a)):\n",
        "    output += (a[i] * b[i])\n",
        "  return output\n",
        "\n",
        "weights = [0.1,0.2,0]\n",
        "\n",
        "def neural_network(input,_weights):\n",
        "  pred = w_sum(input,weights)\n",
        "  return pred\n",
        "\n",
        "#this dataset is current status at beginning of each game\n",
        "#for first 4 games in a season\n",
        "\n",
        "#toes = current number of toes\n",
        "#wirec  = current games won(percent)\n",
        "#nfans = fan count(in millions)\n",
        "\n",
        "toes = [8.5, 9.5, 9.9, 9.0]\n",
        "wlrec = [0.65, 0.8, 0.8, 0.9]\n",
        "nfans = [1.2, 1.3, 0.5, 1.0]\n",
        "\n",
        "#input corresponds to every entry\n",
        "#for the first game of the season\n",
        "\n",
        "toes =[8.5,9.5,9.9,9.0]\n",
        "wlrec = [0.65,0.8,0.8,0.9]\n",
        "nfans = [1.2,1.3,0.5,1.0]\n",
        "\n",
        "#input corresponds to every entry\n",
        "#for the first game of the season\n",
        "\n",
        "input = [toes[0],wlrec[0],nfans[0]]\n",
        "pred = neural_network(input,weights)\n",
        "\n",
        "print(pred)"
      ],
      "execution_count": 0,
      "outputs": [
        {
          "output_type": "stream",
          "text": [
            "0.9800000000000001\n"
          ],
          "name": "stdout"
        }
      ]
    },
    {
      "metadata": {
        "id": "AuOrEDkpnKBR",
        "colab_type": "code",
        "outputId": "ee04096a-9868-4358-8611-154d620ff555",
        "colab": {
          "base_uri": "https://localhost:8080/",
          "height": 34
        }
      },
      "cell_type": "code",
      "source": [
        "#numpy \n",
        "\n",
        "import numpy as np\n",
        "weights = np.array([0.1,0.2,0])\n",
        "\n",
        "def neural_network(input,weights):\n",
        "  pred = input.dot(weights)\n",
        "  return pred\n",
        "\n",
        "toes = np.array([8.5,9.5,9.9,9.0])\n",
        "wlrec = np.array([0.65,0.8,0.8,0.9])\n",
        "nfans = np.array([1.2,1.3,0.5,1.0])\n",
        "\n",
        "#input corresponds to every entry\n",
        "#for the first game of the season\n",
        "\n",
        "input = np.array([toes[0],wlrec[0],nfans[0]])\n",
        "pred = neural_network(input,weights)\n",
        "\n",
        "print(pred)"
      ],
      "execution_count": 0,
      "outputs": [
        {
          "output_type": "stream",
          "text": [
            "0.9800000000000001\n"
          ],
          "name": "stdout"
        }
      ]
    },
    {
      "metadata": {
        "id": "nE-4GR0GoFj3",
        "colab_type": "code",
        "outputId": "bc87c9e5-a3d2-4cc4-875b-e92a849fa85e",
        "colab": {
          "base_uri": "https://localhost:8080/",
          "height": 34
        }
      },
      "cell_type": "code",
      "source": [
        "#instead of predicting just wheather the team won or lost\n",
        "#now we're also predicting wheather they are happy/sad \n",
        "#and the percentage of  the team that is hurt. we are making this \n",
        "#prediction using only the current win/loss record\n",
        "\n",
        "def ele_mul(number,vector):\n",
        "  output = [0,0,0]\n",
        "  assert(len(output) == len(vector))\n",
        "  for i in range(len(vector)):\n",
        "    output[i] = number * vector[i]\n",
        "  return output\n",
        "\n",
        "weights = [0.3,0.2,0.9]\n",
        "\n",
        "def neural_network(inputs,weights):\n",
        "  pred = ele_mul(input,weights)\n",
        "  return pred\n",
        "\n",
        "wlrec = [0.65, 0.8, 0.8, 0.9]\n",
        "input = wlrec[0]\n",
        "pred = neural_network(input,weights)\n",
        "\n",
        "print(pred)"
      ],
      "execution_count": 0,
      "outputs": [
        {
          "output_type": "stream",
          "text": [
            "[0.195, 0.13, 0.5850000000000001]\n"
          ],
          "name": "stdout"
        }
      ]
    },
    {
      "metadata": {
        "id": "d6jBWrGqo30D",
        "colab_type": "code",
        "outputId": "16a7b0c7-4112-408c-f582-bca4ecd93daf",
        "colab": {
          "base_uri": "https://localhost:8080/",
          "height": 34
        }
      },
      "cell_type": "code",
      "source": [
        "#toes %win #fans\n",
        "\n",
        "weights = [[0.1, 0.1, -0.3], #hurt?\n",
        "           [0.1, 0.2, 0.0], #win?\n",
        "           [0.0, 1.3, 0.1]] #sad?\n",
        "\n",
        "def w_sum(a,b):\n",
        "  assert(len(a) == len(b))\n",
        "  output = 0\n",
        "  for i in range(len(a)):\n",
        "    output += (a[i] * b[i])\n",
        "  return output\n",
        "\n",
        "def vect_mat_mul(vect,matrix):\n",
        "  assert(len(vect)==len(matrix))\n",
        "  output = [0,0,0]\n",
        "  for i in range(len(vect)):\n",
        "    output[i] = w_sum(vect,matrix[i])\n",
        "  return output\n",
        "\n",
        "def neural_network(input, weights):\n",
        "  pred = vect_mat_mul(input,weights)\n",
        "  return pred\n",
        "\n",
        "#this dataset is the current status of beginning of each game \n",
        "#for the first 4 games in a season\n",
        "\n",
        "#toes = current number of toes\n",
        "#wlrec = current games won(percent)\n",
        "#nfans = fan count(in millions)\n",
        "\n",
        "toes = [8.5,9.5,9.9,9.0]\n",
        "wlrec = [0.65,0.8,0.8,0.9]\n",
        "nfans = [1.2,1.3,0.5,1.0]\n",
        "\n",
        "\n",
        "#input corresponds to every entry\n",
        "#for the first game of the season\n",
        "\n",
        "input = [toes[0],wlrec[0],nfans[0]]\n",
        "pred = neural_network(input,weights)\n",
        "\n",
        "print(pred)"
      ],
      "execution_count": 0,
      "outputs": [
        {
          "output_type": "stream",
          "text": [
            "[0.555, 0.9800000000000001, 0.9650000000000001]\n"
          ],
          "name": "stdout"
        }
      ]
    },
    {
      "metadata": {
        "id": "PShYkZCLqSpk",
        "colab_type": "code",
        "outputId": "dba85e2d-3a82-4355-f82a-dec3ba4e03a6",
        "colab": {
          "base_uri": "https://localhost:8080/",
          "height": 34
        }
      },
      "cell_type": "code",
      "source": [
        "#predicting on predictions \n",
        "\n",
        "#toes %win #fans\n",
        "ih_wgt = [ [0.1, 0.2, -0.1], #hid[0]\n",
        "           [-0.1,0.1, 0.9], #hid[1]\n",
        "           [0.1, 0.4, 0.1] ] #hid[2]\n",
        "\n",
        "           #hid[0] hid[1] hid[2]\n",
        "hp_wgt = [ [0.3, 1.1, -0.3], #hurt?\n",
        "           [0.1, 0.2, 0.0], #win?\n",
        "           [0.0, 1.3, 0.1] ] #sad?\n",
        "\n",
        "weights = [ih_wgt, hp_wgt]\n",
        "\n",
        "def neural_network(input, weights):\n",
        "    hid = vect_mat_mul(input,weights[0])\n",
        "    pred = vect_mat_mul(hid,weights[1])\n",
        "    return pred\n",
        "\n",
        "toes =  [8.5, 9.5, 9.9, 9.0]\n",
        "wlrec = [0.65,0.8, 0.8, 0.9]\n",
        "nfans = [1.2, 1.3, 0.5, 1.0]\n",
        "\n",
        "# Input corresponds to every entry\n",
        "# for the first game of the season.\n",
        "\n",
        "input = [toes[0],wlrec[0],nfans[0]]\n",
        "pred = neural_network(input,weights)\n",
        "\n",
        "print(pred)"
      ],
      "execution_count": 0,
      "outputs": [
        {
          "output_type": "stream",
          "text": [
            "[0.21350000000000002, 0.14500000000000002, 0.5065]\n"
          ],
          "name": "stdout"
        }
      ]
    },
    {
      "metadata": {
        "id": "ENE61oZlnyQ-",
        "colab_type": "code",
        "outputId": "1ecc8194-39eb-4343-f94b-cc52ec1e928a",
        "colab": {
          "base_uri": "https://localhost:8080/",
          "height": 34
        }
      },
      "cell_type": "code",
      "source": [
        "#implementation with numpy\n",
        "\n",
        "#toes %win #fans\n",
        "ih_wgt = np.array([ \n",
        "            [0.1, 0.2, -0.1], #hid[0]\n",
        "            [-0.1,0.1, 0.9], #hid[1]\n",
        "            [0.1, 0.4, 0.1]]).T #hid[2]\n",
        "\n",
        "\n",
        "# hid[0] hid[1] hid[2]\n",
        "hp_wgt = np.array([  \n",
        "            [0.3, 1.1, -0.3], #hurt?\n",
        "            [0.1, 0.2, 0.0], #win?\n",
        "            [0.0, 1.3, 0.1] ]).T #sad?\n",
        "\n",
        "weights = [ih_wgt, hp_wgt]\n",
        "\n",
        "def neural_network(input, weights):\n",
        "\n",
        "    hid = input.dot(weights[0])\n",
        "    pred = hid.dot(weights[1])\n",
        "    return pred\n",
        "\n",
        "\n",
        "toes =  np.array([8.5, 9.5, 9.9, 9.0])\n",
        "wlrec = np.array([0.65,0.8, 0.8, 0.9])\n",
        "nfans = np.array([1.2, 1.3, 0.5, 1.0])\n",
        "\n",
        "input = np.array([toes[0],wlrec[0],nfans[0]])\n",
        "\n",
        "pred = neural_network(input,weights)\n",
        "print(pred)"
      ],
      "execution_count": 0,
      "outputs": [
        {
          "output_type": "stream",
          "text": [
            "[0.2135 0.145  0.5065]\n"
          ],
          "name": "stdout"
        }
      ]
    },
    {
      "metadata": {
        "id": "oYTuyXSLnDKl",
        "colab_type": "code",
        "outputId": "e49efc86-07c6-4155-c096-cc182ad28da8",
        "colab": {
          "base_uri": "https://localhost:8080/",
          "height": 151
        }
      },
      "cell_type": "code",
      "source": [
        "#primer to numpy\n",
        "\n",
        "import numpy as np\n",
        "\n",
        "a = np.array([0,1,2,3]) # a vector\n",
        "b = np.array([4,5,6,7]) # another vector\n",
        "c = np.array([[0,1,2,3], # a matrix\n",
        "              [4,5,6,7]])\n",
        "\n",
        "\n",
        "d = np.zeros((2,4)) #(2*4 matrix of zeros)\n",
        "e = np.random.rand(2,5) #random 2*5\n",
        "\n",
        "#matrix with all numbers between 0 and 1\n",
        "\n",
        "print(a)\n",
        "print(b)\n",
        "print(c)\n",
        "print(d)\n",
        "print(e)"
      ],
      "execution_count": 0,
      "outputs": [
        {
          "output_type": "stream",
          "text": [
            "[0 1 2 3]\n",
            "[4 5 6 7]\n",
            "[[0 1 2 3]\n",
            " [4 5 6 7]]\n",
            "[[0. 0. 0. 0.]\n",
            " [0. 0. 0. 0.]]\n",
            "[[0.21642683 0.25650245 0.7969948  0.92855858 0.33153158]\n",
            " [0.72646501 0.91496183 0.97552711 0.91679912 0.97838754]]\n"
          ],
          "name": "stdout"
        }
      ]
    },
    {
      "metadata": {
        "id": "4NBfeWM2rQ8f",
        "colab_type": "code",
        "outputId": "4ef66662-9888-4f81-a49e-0e5d2d34f913",
        "colab": {
          "base_uri": "https://localhost:8080/",
          "height": 330
        }
      },
      "cell_type": "code",
      "source": [
        "\n",
        "print(a * 0.1) # multiplies every number in vector \"a\" by 0.1\n",
        "      \n",
        "print(c * 0.2) # multiplies every number in matrix \"c\" by 0.2\n",
        "      \n",
        "print(a * b) # multiplies elementwise between a and b (columns paired up)\n",
        "      \n",
        "print(a * b * 0.2) # elementwise multiplication then multiplied by 0.2\n",
        "      \n",
        "print(a * c) # since c has the same number of columns as a, this performs\n",
        "# elementwise multiplication on every row of the matrix \"c\"\n",
        "\n",
        "print(a * e) # since a and e don't have the same number of columns, this\n",
        "# throws a \"Value Error: operands could not be broadcast together with..\""
      ],
      "execution_count": 0,
      "outputs": [
        {
          "output_type": "stream",
          "text": [
            "[0.  0.1 0.2 0.3]\n",
            "[[0.  0.2 0.4 0.6]\n",
            " [0.8 1.  1.2 1.4]]\n",
            "[ 0  5 12 21]\n",
            "[0.  1.  2.4 4.2]\n",
            "[[ 0  1  4  9]\n",
            " [ 0  5 12 21]]\n"
          ],
          "name": "stdout"
        },
        {
          "output_type": "error",
          "ename": "ValueError",
          "evalue": "ignored",
          "traceback": [
            "\u001b[0;31m---------------------------------------------------------------------------\u001b[0m",
            "\u001b[0;31mValueError\u001b[0m                                Traceback (most recent call last)",
            "\u001b[0;32m<ipython-input-15-ad60d974ff8b>\u001b[0m in \u001b[0;36m<module>\u001b[0;34m()\u001b[0m\n\u001b[1;32m     11\u001b[0m \u001b[0;31m# elementwise multiplication on every row of the matrix \"c\"\u001b[0m\u001b[0;34m\u001b[0m\u001b[0;34m\u001b[0m\u001b[0;34m\u001b[0m\u001b[0m\n\u001b[1;32m     12\u001b[0m \u001b[0;34m\u001b[0m\u001b[0m\n\u001b[0;32m---> 13\u001b[0;31m \u001b[0mprint\u001b[0m\u001b[0;34m(\u001b[0m\u001b[0ma\u001b[0m \u001b[0;34m*\u001b[0m \u001b[0me\u001b[0m\u001b[0;34m)\u001b[0m \u001b[0;31m# since a and e don't have the same number of columns, this\u001b[0m\u001b[0;34m\u001b[0m\u001b[0;34m\u001b[0m\u001b[0m\n\u001b[0m\u001b[1;32m     14\u001b[0m \u001b[0;31m# throws a \"Value Error: operands could not be broadcast together with..\"\u001b[0m\u001b[0;34m\u001b[0m\u001b[0;34m\u001b[0m\u001b[0;34m\u001b[0m\u001b[0m\n",
            "\u001b[0;31mValueError\u001b[0m: operands could not be broadcast together with shapes (4,) (2,5) "
          ]
        }
      ]
    },
    {
      "metadata": {
        "id": "pmy77KHpm5OP",
        "colab_type": "code",
        "outputId": "448bb809-cd19-46f9-abd0-fbdc907e8748",
        "colab": {
          "base_uri": "https://localhost:8080/",
          "height": 34
        }
      },
      "cell_type": "code",
      "source": [
        "a = np.zeros((1,4)) # vector of length 4\n",
        "b = np.zeros((4,3)) # matrix with 4 rows & 3 columns\n",
        "\n",
        "c = a.dot(b)\n",
        "print(c.shape)"
      ],
      "execution_count": 0,
      "outputs": [
        {
          "output_type": "stream",
          "text": [
            "(1, 3)\n"
          ],
          "name": "stdout"
        }
      ]
    },
    {
      "metadata": {
        "id": "bc39e09Slmj8",
        "colab_type": "code",
        "outputId": "e6c21984-c09c-4604-a8f6-6479ac542056",
        "colab": {
          "base_uri": "https://localhost:8080/",
          "height": 262
        }
      },
      "cell_type": "code",
      "source": [
        "a = np.zeros((2,4)) # matrix with 2 rows and 4 columns\n",
        "b = np.zeros((4,3)) # matrix with 4 rows & 3 columns\n",
        "\n",
        "c = a.dot(b)\n",
        "print(c.shape) # outputs (2,3)\n",
        "\n",
        "e = np.zeros((2,1)) # matrix with 2 rows and 1 columns\n",
        "f = np.zeros((1,3)) # matrix with 1 row & 3 columns\n",
        "\n",
        "g = e.dot(f)\n",
        "print(g.shape) # outputs (2,3)\n",
        "\n",
        "h = np.zeros((5,4)).T # matrix with 4 rows and 5 columns\n",
        "i = np.zeros((5,6)) # matrix with 6 rows & 5 columns\n",
        "\n",
        "j = h.dot(i)\n",
        "print(j.shape) # outputs (4,6)\n",
        "\n",
        "h = np.zeros((5,4)) # matrix with 5 rows and 4 columns\n",
        "i = np.zeros((5,6)) # matrix with 5 rows & 6 columns\n",
        "j = h.dot(i)\n",
        "print(j.shape) # throws an error\n"
      ],
      "execution_count": 0,
      "outputs": [
        {
          "output_type": "stream",
          "text": [
            "(2, 3)\n",
            "(2, 3)\n",
            "(4, 6)\n"
          ],
          "name": "stdout"
        },
        {
          "output_type": "error",
          "ename": "ValueError",
          "evalue": "ignored",
          "traceback": [
            "\u001b[0;31m---------------------------------------------------------------------------\u001b[0m",
            "\u001b[0;31mValueError\u001b[0m                                Traceback (most recent call last)",
            "\u001b[0;32m<ipython-input-17-eaa970ddaf33>\u001b[0m in \u001b[0;36m<module>\u001b[0;34m()\u001b[0m\n\u001b[1;32m     19\u001b[0m \u001b[0mh\u001b[0m \u001b[0;34m=\u001b[0m \u001b[0mnp\u001b[0m\u001b[0;34m.\u001b[0m\u001b[0mzeros\u001b[0m\u001b[0;34m(\u001b[0m\u001b[0;34m(\u001b[0m\u001b[0;36m5\u001b[0m\u001b[0;34m,\u001b[0m\u001b[0;36m4\u001b[0m\u001b[0;34m)\u001b[0m\u001b[0;34m)\u001b[0m \u001b[0;31m# matrix with 5 rows and 4 columns\u001b[0m\u001b[0;34m\u001b[0m\u001b[0;34m\u001b[0m\u001b[0m\n\u001b[1;32m     20\u001b[0m \u001b[0mi\u001b[0m \u001b[0;34m=\u001b[0m \u001b[0mnp\u001b[0m\u001b[0;34m.\u001b[0m\u001b[0mzeros\u001b[0m\u001b[0;34m(\u001b[0m\u001b[0;34m(\u001b[0m\u001b[0;36m5\u001b[0m\u001b[0;34m,\u001b[0m\u001b[0;36m6\u001b[0m\u001b[0;34m)\u001b[0m\u001b[0;34m)\u001b[0m \u001b[0;31m# matrix with 5 rows & 6 columns\u001b[0m\u001b[0;34m\u001b[0m\u001b[0;34m\u001b[0m\u001b[0m\n\u001b[0;32m---> 21\u001b[0;31m \u001b[0mj\u001b[0m \u001b[0;34m=\u001b[0m \u001b[0mh\u001b[0m\u001b[0;34m.\u001b[0m\u001b[0mdot\u001b[0m\u001b[0;34m(\u001b[0m\u001b[0mi\u001b[0m\u001b[0;34m)\u001b[0m\u001b[0;34m\u001b[0m\u001b[0;34m\u001b[0m\u001b[0m\n\u001b[0m\u001b[1;32m     22\u001b[0m \u001b[0mprint\u001b[0m\u001b[0;34m(\u001b[0m\u001b[0mj\u001b[0m\u001b[0;34m.\u001b[0m\u001b[0mshape\u001b[0m\u001b[0;34m)\u001b[0m \u001b[0;31m# throws an error\u001b[0m\u001b[0;34m\u001b[0m\u001b[0;34m\u001b[0m\u001b[0m\n",
            "\u001b[0;31mValueError\u001b[0m: shapes (5,4) and (5,6) not aligned: 4 (dim 1) != 5 (dim 0)"
          ]
        }
      ]
    }
  ]
}
