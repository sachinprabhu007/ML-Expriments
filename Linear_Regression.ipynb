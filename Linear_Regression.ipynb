{
  "nbformat": 4,
  "nbformat_minor": 0,
  "metadata": {
    "colab": {
      "name": "Linear Regression.ipynb",
      "version": "0.3.2",
      "provenance": [],
      "include_colab_link": true
    },
    "kernelspec": {
      "name": "python3",
      "display_name": "Python 3"
    }
  },
  "cells": [
    {
      "cell_type": "markdown",
      "metadata": {
        "id": "view-in-github",
        "colab_type": "text"
      },
      "source": [
        "<a href=\"https://colab.research.google.com/github/sachinprabhu007/ML-Expriments/blob/master/Linear_Regression.ipynb\" target=\"_parent\"><img src=\"https://colab.research.google.com/assets/colab-badge.svg\" alt=\"Open In Colab\"/></a>"
      ]
    },
    {
      "metadata": {
        "id": "KKWPD6MOrfMU",
        "colab_type": "code",
        "colab": {}
      },
      "cell_type": "code",
      "source": [
        "#importing the dependencies \n",
        "\n",
        "import numpy as np\n",
        "import tensorflow as tf\n",
        "import matplotlib.pyplot as plt"
      ],
      "execution_count": 0,
      "outputs": []
    },
    {
      "metadata": {
        "id": "5huixuBLwO6r",
        "colab_type": "code",
        "colab": {}
      },
      "cell_type": "code",
      "source": [
        "#define the parameters\n",
        "\n",
        "learning_parameter = 0.01\n",
        "epochs = 300\n"
      ],
      "execution_count": 0,
      "outputs": []
    },
    {
      "metadata": {
        "id": "Vh5DK1HAwefr",
        "colab_type": "code",
        "colab": {
          "base_uri": "https://localhost:8080/",
          "height": 347
        },
        "outputId": "ffdac208-9cc8-4df5-9280-b5a6604c846a"
      },
      "cell_type": "code",
      "source": [
        "#creating the dataset of linear regression\n",
        "\n",
        "# Here line is y = Ax  , samples = sample points\n",
        "\n",
        "samples = 50\n",
        "\n",
        "x_train = np.linspace(0,20,samples)\n",
        "y_train = 6 * x_train + 7 * np.random.randn(samples)\n",
        "\n",
        "#noisy dataset\n",
        "plt.plot(x_train, y_train,'X')\n",
        "\n",
        "#noise free dataset\n",
        "plt.plot(x_train, 6*x_train)\n",
        "\n",
        "plt.show()"
      ],
      "execution_count": 7,
      "outputs": [
        {
          "output_type": "display_data",
          "data": {
            "image/png": "[encoded data removed]",
            "text/plain": [
              "<matplotlib.figure.Figure at 0x7f06e0a20fd0>"
            ]
          },
          "metadata": {
            "tags": []
          }
        }
      ]
    },
    {
      "metadata": {
        "id": "qGcn_hW0w9U6",
        "colab_type": "code",
        "colab": {}
      },
      "cell_type": "code",
      "source": [
        "#Define the tensorflow definitions\n",
        "\n",
        "Y = tf.placeholder(tf.float32)\n",
        "X = tf.placeholder(tf.float32)\n",
        "\n",
        "W = tf.Variable(np.random.randn(), name = 'weights')\n",
        "B = tf.Variable(np.random.randn(), name = 'bias')\n",
        "\n",
        "#Create the model for regression\n",
        "\n",
        "prediction = W * X + B\n",
        "\n",
        "# Cost function\n",
        "cost_iteration = tf.reduce_sum((prediction-Y)**2)/(2*samples)\n",
        "\n",
        "#Define the optimizer\n",
        "optimizer = tf.train.GradientDescentOptimizer(learning_parameter).minimize(cost_iteration)\n",
        "\n",
        "#Initialize the variables\n",
        "init = tf.global_variables_initializer()"
      ],
      "execution_count": 0,
      "outputs": []
    },
    {
      "metadata": {
        "id": "af14j8USy6mz",
        "colab_type": "code",
        "colab": {
          "base_uri": "https://localhost:8080/",
          "height": 483
        },
        "outputId": "a223c012-5d11-472f-cbf5-f6809dd3a89c"
      },
      "cell_type": "code",
      "source": [
        "#Define the tensorflow  session\n",
        "\n",
        "with tf.Session() as sess:\n",
        "  sess.run(init)\n",
        "  for epoch in range(epochs):\n",
        "    for x, y in zip(x_train, y_train):\n",
        "      sess.run(optimizer, feed_dict = {X:x, Y:y })\n",
        "    if not epoch % 40:\n",
        "      W1 = sess.run(W)\n",
        "      B1 = sess.run(B)\n",
        "      cost_iter = sess.run(cost_iteration, feed_dict = {X:x , Y:y})\n",
        "      print('Epochs %f Cost %f Weight %f Bias %f' %(epoch, cost_iter, W1,B1))\n",
        "      \n",
        "  Weight = sess.run(W)\n",
        "  Bias  = sess.run(B)\n",
        "  \n",
        "  plt.plot(x_train, y_train,'o')\n",
        "  plt.plot(x_train, Weight * x_train + Bias)\n",
        "  plt.show()"
      ],
      "execution_count": 12,
      "outputs": [
        {
          "output_type": "stream",
          "text": [
            "Epochs 0.000000 Cost 9.734241 Weight 4.075478 Bias 1.890751\n",
            "Epochs 40.000000 Cost 0.236914 Weight 5.889933 Bias 1.668787\n",
            "Epochs 80.000000 Cost 0.247008 Weight 5.911980 Bias 1.330455\n",
            "Epochs 120.000000 Cost 0.256309 Weight 5.931891 Bias 1.024924\n",
            "Epochs 160.000000 Cost 0.264855 Weight 5.949872 Bias 0.749014\n",
            "Epochs 200.000000 Cost 0.272690 Weight 5.966109 Bias 0.499852\n",
            "Epochs 240.000000 Cost 0.279866 Weight 5.980772 Bias 0.274847\n",
            "Epochs 280.000000 Cost 0.286426 Weight 5.994014 Bias 0.071656\n"
          ],
          "name": "stdout"
        },
        {
          "output_type": "display_data",
          "data": {
            "image/png": "[encoded data removed]",
            "text/plain": [
              "<matplotlib.figure.Figure at 0x7f06e34676d8>"
            ]
          },
          "metadata": {
            "tags": []
          }
        }
      ]
    },
    {
      "metadata": {
        "id": "-H1Chf_K0J-r",
        "colab_type": "code",
        "colab": {}
      },
      "cell_type": "code",
      "source": [
        ""
      ],
      "execution_count": 0,
      "outputs": []
    },
    {
      "metadata": {
        "id": "Mhl_A2FY0F-Q",
        "colab_type": "code",
        "colab": {}
      },
      "cell_type": "code",
      "source": [
        ""
      ],
      "execution_count": 0,
      "outputs": []
    },
    {
      "metadata": {
        "id": "3UyHLMF7y3uT",
        "colab_type": "code",
        "colab": {}
      },
      "cell_type": "code",
      "source": [
        ""
      ],
      "execution_count": 0,
      "outputs": []
    },
    {
      "metadata": {
        "id": "X5-Ze2dZyxeb",
        "colab_type": "code",
        "colab": {}
      },
      "cell_type": "code",
      "source": [
        ""
      ],
      "execution_count": 0,
      "outputs": []
    }
  ]
}