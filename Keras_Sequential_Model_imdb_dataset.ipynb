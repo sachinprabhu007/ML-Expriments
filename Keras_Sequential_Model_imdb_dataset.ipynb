{
  "nbformat": 4,
  "nbformat_minor": 0,
  "metadata": {
    "colab": {
      "name": "Keras Sequential Model - imdb dataset.ipynb",
      "version": "0.3.2",
      "provenance": [],
      "include_colab_link": true
    },
    "kernelspec": {
      "name": "python3",
      "display_name": "Python 3"
    }
  },
  "cells": [
    {
      "cell_type": "markdown",
      "metadata": {
        "id": "view-in-github",
        "colab_type": "text"
      },
      "source": [
        "<a href=\"https://colab.research.google.com/github/sachinprabhu007/ML-Expriments/blob/master/Keras_Sequential_Model_imdb_dataset.ipynb\" target=\"_parent\"><img src=\"https://colab.research.google.com/assets/colab-badge.svg\" alt=\"Open In Colab\"/></a>"
      ]
    },
    {
      "metadata": {
        "id": "BpMqZNsqSR8W",
        "colab_type": "code",
        "colab": {
          "base_uri": "https://localhost:8080/",
          "height": 33
        },
        "outputId": "021a3a8e-e116-4f48-eb4e-486eb3cec991"
      },
      "cell_type": "code",
      "source": [
        "# import libraries\n",
        "import numpy as np\n",
        "\n",
        "from keras.layers import Dense\n",
        "from keras.models import Sequential"
      ],
      "execution_count": 1,
      "outputs": [
        {
          "output_type": "stream",
          "text": [
            "Using TensorFlow backend.\n"
          ],
          "name": "stderr"
        }
      ]
    },
    {
      "metadata": {
        "id": "JX9GXi-dSX1T",
        "colab_type": "code",
        "colab": {}
      },
      "cell_type": "code",
      "source": [
        "\n",
        "# import data set\n",
        "from keras.datasets import imdb\n",
        "\n",
        "(train_data, train_labels),(test_data,test_labels) = imdb.load_data(num_words = 10000)"
      ],
      "execution_count": 0,
      "outputs": []
    },
    {
      "metadata": {
        "id": "QawJyzrESe1u",
        "colab_type": "code",
        "colab": {
          "base_uri": "https://localhost:8080/",
          "height": 87
        },
        "outputId": "d90f9737-f5f5-496a-ee7e-47bc3a5cb2ad"
      },
      "cell_type": "code",
      "source": [
        "#Check train and test data\n",
        "print(train_data[0])\n",
        "print(train_labels[0])\n",
        "\n",
        "#Check max number of words in each review\n",
        "max([max(sequence) for sequence in train_data])"
      ],
      "execution_count": 4,
      "outputs": [
        {
          "output_type": "stream",
          "text": [
            "[1, 14, 22, 16, 43, 530, 973, 1622, 1385, 65, 458, 4468, 66, 3941, 4, 173, 36, 256, 5, 25, 100, 43, 838, 112, 50, 670, 2, 9, 35, 480, 284, 5, 150, 4, 172, 112, 167, 2, 336, 385, 39, 4, 172, 4536, 1111, 17, 546, 38, 13, 447, 4, 192, 50, 16, 6, 147, 2025, 19, 14, 22, 4, 1920, 4613, 469, 4, 22, 71, 87, 12, 16, 43, 530, 38, 76, 15, 13, 1247, 4, 22, 17, 515, 17, 12, 16, 626, 18, 2, 5, 62, 386, 12, 8, 316, 8, 106, 5, 4, 2223, 5244, 16, 480, 66, 3785, 33, 4, 130, 12, 16, 38, 619, 5, 25, 124, 51, 36, 135, 48, 25, 1415, 33, 6, 22, 12, 215, 28, 77, 52, 5, 14, 407, 16, 82, 2, 8, 4, 107, 117, 5952, 15, 256, 4, 2, 7, 3766, 5, 723, 36, 71, 43, 530, 476, 26, 400, 317, 46, 7, 4, 2, 1029, 13, 104, 88, 4, 381, 15, 297, 98, 32, 2071, 56, 26, 141, 6, 194, 7486, 18, 4, 226, 22, 21, 134, 476, 26, 480, 5, 144, 30, 5535, 18, 51, 36, 28, 224, 92, 25, 104, 4, 226, 65, 16, 38, 1334, 88, 12, 16, 283, 5, 16, 4472, 113, 103, 32, 15, 16, 5345, 19, 178, 32]\n",
            "1\n"
          ],
          "name": "stdout"
        },
        {
          "output_type": "execute_result",
          "data": {
            "text/plain": [
              "9999"
            ]
          },
          "metadata": {
            "tags": []
          },
          "execution_count": 4
        }
      ]
    },
    {
      "metadata": {
        "id": "SjHsnqUYShr9",
        "colab_type": "code",
        "colab": {
          "base_uri": "https://localhost:8080/",
          "height": 53
        },
        "outputId": "ba1174a2-bce7-41bb-da03-0aa8479e2e86"
      },
      "cell_type": "code",
      "source": [
        "#Decode words in review\n",
        "word_index = imdb.get_word_index()\n",
        "reverse_word_index = dict([(value,key) for (key,value) in word_index.items()])\n",
        "decoded_review = ''.join([reverse_word_index.get(i-3,'?') for i in train_data[0]])\n",
        "decoded_review"
      ],
      "execution_count": 5,
      "outputs": [
        {
          "output_type": "execute_result",
          "data": {
            "text/plain": [
              "\"?thisfilmwasjustbrilliantcastinglocationscenerystorydirectioneveryone'sreallysuitedtheparttheyplayedandyoucouldjustimaginebeingthererobert?isanamazingactorandnowthesamebeingdirector?fathercamefromthesamescottishislandasmyselfsoilovedthefacttherewasarealconnectionwiththisfilmthewittyremarksthroughoutthefilmweregreatitwasjustbrilliantsomuchthatiboughtthefilmassoonasitwasreleasedfor?andwouldrecommendittoeveryonetowatchandtheflyfishingwasamazingreallycriedattheenditwassosadandyouknowwhattheysayifyoucryatafilmitmusthavebeengoodandthisdefinitelywasalso?tothetwolittleboy'sthatplayedthe?ofnormanandpaultheywerejustbrilliantchildrenareoftenleftoutofthe?listithinkbecausethestarsthatplaythemallgrownuparesuchabigprofileforthewholefilmbutthesechildrenareamazingandshouldbepraisedforwhattheyhavedonedon'tyouthinkthewholestorywassolovelybecauseitwastrueandwassomeone'slifeafterallthatwassharedwithusall\""
            ]
          },
          "metadata": {
            "tags": []
          },
          "execution_count": 5
        }
      ]
    },
    {
      "metadata": {
        "id": "6CjFTsEqSj8U",
        "colab_type": "code",
        "colab": {}
      },
      "cell_type": "code",
      "source": [
        "#One Hot Encoding manually of review words\n",
        "def vectorize_sequences(sequences, dimension = 10000):\n",
        "    results = np.zeros((len(sequences), dimension))\n",
        "    for i, sequence in enumerate(sequences):\n",
        "        results[i, sequence] = 1\n",
        "    return results"
      ],
      "execution_count": 0,
      "outputs": []
    },
    {
      "metadata": {
        "id": "0fOlfvBJSl7F",
        "colab_type": "code",
        "colab": {}
      },
      "cell_type": "code",
      "source": [
        "#Vectorize the data\n",
        "x_train = vectorize_sequences(train_data)\n",
        "x_test = vectorize_sequences(test_data)"
      ],
      "execution_count": 0,
      "outputs": []
    },
    {
      "metadata": {
        "id": "YCNsxvGcSwH4",
        "colab_type": "code",
        "colab": {}
      },
      "cell_type": "code",
      "source": [
        "#Vectorize labels\n",
        "y_train = np.asarray(train_labels).astype('float32')\n",
        "y_test = np.asarray(test_labels).astype('float32')\n"
      ],
      "execution_count": 0,
      "outputs": []
    },
    {
      "metadata": {
        "id": "GsiTtjUrSoSs",
        "colab_type": "code",
        "colab": {}
      },
      "cell_type": "code",
      "source": [
        "\n",
        "#Define the model\n",
        "model = Sequential()\n",
        "\n",
        "model.add(Dense(16, activation = 'relu', input_shape= (10000,)))\n",
        "model.add(Dense(16, activation = 'relu'))\n",
        "model.add(Dense(1, activation = 'sigmoid'))"
      ],
      "execution_count": 0,
      "outputs": []
    },
    {
      "metadata": {
        "id": "JibvEALWSqVp",
        "colab_type": "code",
        "colab": {}
      },
      "cell_type": "code",
      "source": [
        "#Compile the model\n",
        "\n",
        "model.compile(optimizer= 'rmsprop', loss = 'binary_crossentropy', metrics = ['accuracy'])\n",
        "\n",
        "#cross entropy generally works well when dealing with probabilities as outputs"
      ],
      "execution_count": 0,
      "outputs": []
    },
    {
      "metadata": {
        "id": "fzcJlr1nSsDl",
        "colab_type": "code",
        "colab": {}
      },
      "cell_type": "code",
      "source": [
        "#Create a validation set from training\n",
        "\n",
        "x_val = x_train[:10000]\n",
        "partial_x_train = x_train[10000:]\n",
        "\n",
        "y_val = y_train[:10000]\n",
        "partial_y_train = y_train[10000:]"
      ],
      "execution_count": 0,
      "outputs": []
    },
    {
      "metadata": {
        "id": "jyb9aQk_S0yQ",
        "colab_type": "code",
        "colab": {
          "base_uri": "https://localhost:8080/",
          "height": 702
        },
        "outputId": "7b3a6be1-d26a-4675-b0d0-0ad444781add"
      },
      "cell_type": "code",
      "source": [
        "#Fit the model\n",
        "\n",
        "fit_model = model.fit(partial_x_train,partial_y_train, epochs = 20, batch_size = 512, validation_data = (x_val,y_val))"
      ],
      "execution_count": 15,
      "outputs": [
        {
          "output_type": "stream",
          "text": [
            "Train on 15000 samples, validate on 10000 samples\n",
            "Epoch 1/20\n",
            "15000/15000 [==============================] - 3s 190us/step - loss: 0.5390 - acc: 0.7737 - val_loss: 0.4006 - val_acc: 0.8680\n",
            "Epoch 2/20\n",
            "15000/15000 [==============================] - 2s 164us/step - loss: 0.3214 - acc: 0.8989 - val_loss: 0.3297 - val_acc: 0.8711\n",
            "Epoch 3/20\n",
            "15000/15000 [==============================] - 2s 160us/step - loss: 0.2364 - acc: 0.9245 - val_loss: 0.2871 - val_acc: 0.8866\n",
            "Epoch 4/20\n",
            "15000/15000 [==============================] - 2s 158us/step - loss: 0.1853 - acc: 0.9387 - val_loss: 0.2743 - val_acc: 0.8906\n",
            "Epoch 5/20\n",
            "15000/15000 [==============================] - 2s 158us/step - loss: 0.1528 - acc: 0.9513 - val_loss: 0.2993 - val_acc: 0.8808\n",
            "Epoch 6/20\n",
            "15000/15000 [==============================] - 2s 156us/step - loss: 0.1231 - acc: 0.9621 - val_loss: 0.2876 - val_acc: 0.8872\n",
            "Epoch 7/20\n",
            "15000/15000 [==============================] - 2s 157us/step - loss: 0.1073 - acc: 0.9657 - val_loss: 0.3035 - val_acc: 0.8841\n",
            "Epoch 8/20\n",
            "15000/15000 [==============================] - 2s 157us/step - loss: 0.0857 - acc: 0.9750 - val_loss: 0.3214 - val_acc: 0.8805\n",
            "Epoch 9/20\n",
            "15000/15000 [==============================] - 2s 159us/step - loss: 0.0691 - acc: 0.9827 - val_loss: 0.3435 - val_acc: 0.8796\n",
            "Epoch 10/20\n",
            "15000/15000 [==============================] - 2s 158us/step - loss: 0.0575 - acc: 0.9859 - val_loss: 0.3957 - val_acc: 0.8737\n",
            "Epoch 11/20\n",
            "15000/15000 [==============================] - 2s 158us/step - loss: 0.0466 - acc: 0.9901 - val_loss: 0.3951 - val_acc: 0.8757\n",
            "Epoch 12/20\n",
            "15000/15000 [==============================] - 2s 158us/step - loss: 0.0371 - acc: 0.9925 - val_loss: 0.4293 - val_acc: 0.8765\n",
            "Epoch 13/20\n",
            "15000/15000 [==============================] - 2s 158us/step - loss: 0.0296 - acc: 0.9948 - val_loss: 0.5772 - val_acc: 0.8570\n",
            "Epoch 14/20\n",
            "15000/15000 [==============================] - 2s 159us/step - loss: 0.0249 - acc: 0.9953 - val_loss: 0.4800 - val_acc: 0.8730\n",
            "Epoch 15/20\n",
            "15000/15000 [==============================] - 2s 159us/step - loss: 0.0169 - acc: 0.9977 - val_loss: 0.5092 - val_acc: 0.8681\n",
            "Epoch 16/20\n",
            "15000/15000 [==============================] - 2s 159us/step - loss: 0.0166 - acc: 0.9971 - val_loss: 0.5406 - val_acc: 0.8684\n",
            "Epoch 17/20\n",
            "15000/15000 [==============================] - 2s 158us/step - loss: 0.0100 - acc: 0.9991 - val_loss: 0.5740 - val_acc: 0.8691\n",
            "Epoch 18/20\n",
            "15000/15000 [==============================] - 2s 159us/step - loss: 0.0099 - acc: 0.9986 - val_loss: 0.6052 - val_acc: 0.8641\n",
            "Epoch 19/20\n",
            "15000/15000 [==============================] - 2s 160us/step - loss: 0.0048 - acc: 0.9998 - val_loss: 0.6347 - val_acc: 0.8661\n",
            "Epoch 20/20\n",
            "15000/15000 [==============================] - 2s 158us/step - loss: 0.0070 - acc: 0.9989 - val_loss: 0.6653 - val_acc: 0.8661\n"
          ],
          "name": "stdout"
        }
      ]
    },
    {
      "metadata": {
        "id": "VJCzz0r4TIzd",
        "colab_type": "code",
        "colab": {
          "base_uri": "https://localhost:8080/",
          "height": 378
        },
        "outputId": "3cf0e6f7-49a3-40d7-de99-626fa12aa3d7"
      },
      "cell_type": "code",
      "source": [
        "#Plot training and validation accuracy\n",
        "\n",
        "import matplotlib.pyplot as plt\n",
        "\n",
        "acc = fit_model.history['acc']\n",
        "val_acc = fit_model.history['val_acc']\n",
        "loss = fit_model.history['loss']\n",
        "val_loss = fit_model.history['val_loss']\n",
        "\n",
        "epochs = range(1, len(acc) + 1)\n",
        "\n",
        "plt.plot(epochs, acc, 'bo', label = 'Training Acc')\n",
        "plt.plot(epochs, val_acc, 'b', label = 'Validation Acc')\n",
        "plt.title('Training and Validation Accuracy')\n",
        "plt.legend()\n",
        "plt.figure()\n",
        "plt.show()"
      ],
      "execution_count": 18,
      "outputs": [
        {
          "output_type": "display_data",
          "data": {
            "image/png": "[encoded data removed]",
            "text/plain": [
              "<matplotlib.figure.Figure at 0x7f35c948c550>"
            ]
          },
          "metadata": {
            "tags": []
          }
        },
        {
          "output_type": "display_data",
          "data": {
            "text/plain": [
              "<matplotlib.figure.Figure at 0x7f35d1f74320>"
            ]
          },
          "metadata": {
            "tags": []
          }
        }
      ]
    },
    {
      "metadata": {
        "id": "1YxxPckxUiEd",
        "colab_type": "code",
        "colab": {}
      },
      "cell_type": "code",
      "source": [
        ""
      ],
      "execution_count": 0,
      "outputs": []
    },
    {
      "metadata": {
        "id": "slRJhQ6rUdkS",
        "colab_type": "code",
        "colab": {}
      },
      "cell_type": "code",
      "source": [
        ""
      ],
      "execution_count": 0,
      "outputs": []
    }
  ]
}